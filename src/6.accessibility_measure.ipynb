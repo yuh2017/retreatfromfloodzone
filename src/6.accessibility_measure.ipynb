{
 "cells": [
  {
   "cell_type": "code",
   "execution_count": 21,
   "metadata": {},
   "outputs": [],
   "source": [
    "import os \n",
    "import numpy  as np\n",
    "import pandas as pd\n",
    "import matplotlib.pyplot as plt\n",
    "import geopandas as gpd\n",
    "from pyogrio import read_dataframe\n",
    "import time\n",
    "import glob \n",
    "import plotly.graph_objects as go\n",
    "import pandas as pd\n",
    "import warnings\n"
   ]
  },
  {
   "cell_type": "code",
   "execution_count": 37,
   "metadata": {},
   "outputs": [
    {
     "name": "stderr",
     "output_type": "stream",
     "text": [
      "/Users/yuhan/opt/anaconda3/envs/hazard_env/lib/python3.11/site-packages/pyproj/crs/crs.py:141: FutureWarning: '+init=<authority>:<code>' syntax is deprecated. '<authority>:<code>' is the preferred initialization method. When making the change, be mindful of axis order changes: https://pyproj4.github.io/pyproj/stable/gotchas.html#axis-order-changes-in-proj-6\n",
      "  in_crs_string = _prepare_from_proj_string(in_crs_string)\n"
     ]
    },
    {
     "data": {
      "text/plain": [
       "Index(['NRI_ID', 'STATE', 'STATEABBRV', 'STATEFIPS', 'COUNTY', 'COUNTYTYPE',\n",
       "       'COUNTYFIPS', 'STCOFIPS', 'TRACT', 'TRACTFIPS',\n",
       "       ...\n",
       "       'WNTW_ALRP', 'WNTW_ALRA', 'WNTW_ALR_N', 'WNTW_RISKV', 'WNTW_RISKS',\n",
       "       'WNTW_RISKR', 'NRI_VER', 'Shape_Leng', 'Shape_Area', 'geometry'],\n",
       "      dtype='object', length=469)"
      ]
     },
     "execution_count": 37,
     "metadata": {},
     "output_type": "execute_result"
    }
   ],
   "source": [
    "Pth_hg          = r\"/Users/yuhan/Desktop/Gradient_Boost_code/inputs/gis_data/census/Houston-galveston.shp\"\n",
    "#Geodata = gpd.read_file(fp)\n",
    "read_start      = time.process_time()\n",
    "HG_geodata      = read_dataframe( Pth_hg )\n",
    "read_end        = time.process_time()\n",
    "HG_geodata      = HG_geodata.to_crs({'init':'epsg:4326'})\n",
    "HG_geodata.columns"
   ]
  },
  {
   "cell_type": "code",
   "execution_count": 38,
   "metadata": {},
   "outputs": [
    {
     "data": {
      "text/plain": [
       "0    48039660100\n",
       "1    48039660200\n",
       "2    48039660301\n",
       "3    48039660302\n",
       "4    48039660303\n",
       "Name: TRACTFIPS, dtype: object"
      ]
     },
     "execution_count": 38,
     "metadata": {},
     "output_type": "execute_result"
    }
   ],
   "source": [
    "HG_geodata.TRACTFIPS.head()"
   ]
  },
  {
   "cell_type": "code",
   "execution_count": 39,
   "metadata": {},
   "outputs": [
    {
     "data": {
      "text/plain": [
       "array(['Brazoria', 'Chambers', 'Fort Bend', 'Galveston', 'Harris',\n",
       "       'Liberty', 'Montgomery', 'Waller'], dtype=object)"
      ]
     },
     "execution_count": 39,
     "metadata": {},
     "output_type": "execute_result"
    }
   ],
   "source": [
    "HG_geodata.COUNTY.unique()"
   ]
  },
  {
   "cell_type": "code",
   "execution_count": 40,
   "metadata": {},
   "outputs": [],
   "source": [
    "pth_f = r\"/Users/yuhan/Desktop/Gradient_Boost_code/inputs/travel/joined_weekly_mobility.csv\"\n",
    "travel_daily_dfx  = pd.read_csv( pth_f )\n",
    "\n",
    "travel_daily_dfx['geoid_o'] = travel_daily_dfx['geoid_o'].apply(int).apply(str)\n",
    "travel_daily_dfx['geoid_d'] = travel_daily_dfx['geoid_d'].apply(int).apply(str)\n"
   ]
  },
  {
   "cell_type": "code",
   "execution_count": 41,
   "metadata": {},
   "outputs": [
    {
     "name": "stdout",
     "output_type": "stream",
     "text": [
      "   index      geoid_o      geoid_d      lng_o      lat_o      lng_d  \\\n",
      "0  65966  48201322100  48201980000 -95.210421  29.690043 -95.277263   \n",
      "1  65967  48201322100  48201314300 -95.210421  29.690043 -95.417726   \n",
      "2  65968  48201322100  48201313100 -95.210421  29.690043 -95.389865   \n",
      "3  65969  48201322100  48201412200 -95.210421  29.690043 -95.411071   \n",
      "4  65970  48201322100  48201343700 -95.210421  29.690043 -95.060686   \n",
      "\n",
      "       lat_d           date_range  visitor_flows  pop_flows  route_leng  \\\n",
      "0  29.646153  01/04/21 - 01/10/21              8      209.0         NaN   \n",
      "1  29.683784  01/04/21 - 01/10/21              4      104.0         NaN   \n",
      "2  29.710823  01/04/21 - 01/10/21              4      104.0     24797.0   \n",
      "3  29.706935  01/04/21 - 01/10/21              9      235.0         NaN   \n",
      "4  29.637819  01/04/21 - 01/10/21              8      209.0         NaN   \n",
      "\n",
      "   route_time     distan  route_time2   route_leng2  \n",
      "0         NaN   8.095591   788.037671  13794.700574  \n",
      "1         NaN  20.076545  1419.433945  29474.175026  \n",
      "2      1105.0  17.517742  1284.585018  26125.469310  \n",
      "3         NaN  19.508231  1389.483798  28730.422509  \n",
      "4         NaN  15.608975  1183.992995  23627.465881  \n"
     ]
    }
   ],
   "source": [
    "print( travel_daily_dfx.head() )"
   ]
  },
  {
   "cell_type": "code",
   "execution_count": 42,
   "metadata": {},
   "outputs": [
    {
     "name": "stdout",
     "output_type": "stream",
     "text": [
      "1167\n"
     ]
    }
   ],
   "source": [
    "census_id_travel = list( pd.unique( \n",
    "                         travel_daily_dfx[['geoid_o', \n",
    "                                           'geoid_d']].values.ravel('K')) )\n",
    "\n",
    "print( len(census_id_travel ) )"
   ]
  },
  {
   "cell_type": "code",
   "execution_count": 43,
   "metadata": {},
   "outputs": [
    {
     "data": {
      "text/plain": [
       "Index(['index', 'geoid_o', 'geoid_d', 'lng_o', 'lat_o', 'lng_d', 'lat_d',\n",
       "       'date_range', 'visitor_flows', 'pop_flows', 'route_leng', 'route_time',\n",
       "       'distan', 'route_time2', 'route_leng2'],\n",
       "      dtype='object')"
      ]
     },
     "execution_count": 43,
     "metadata": {},
     "output_type": "execute_result"
    }
   ],
   "source": [
    "travel_daily_dfx.columns"
   ]
  },
  {
   "cell_type": "code",
   "execution_count": 44,
   "metadata": {},
   "outputs": [
    {
     "name": "stdout",
     "output_type": "stream",
     "text": [
      "(157534, 15)\n",
      "(1167, 3)\n",
      "         geoid        lng        lat\n",
      "0  48201322100 -95.210421  29.690043\n",
      "1  48201980000 -95.277263  29.646153\n",
      "2  48201314300 -95.417726  29.683784\n",
      "3  48201313100 -95.389865  29.710823\n",
      "4  48201412200 -95.411071  29.706935\n"
     ]
    }
   ],
   "source": [
    "print( travel_daily_dfx.shape )\n",
    "geo_data = []\n",
    "geoid_list = []\n",
    "for idx, rowi in travel_daily_dfx.iterrows():\n",
    "    if rowi['geoid_o'] not in geoid_list:\n",
    "        datai = { 'geoid': rowi['geoid_o'] ,  'lng': rowi['lng_o'], 'lat': rowi['lat_o'] }\n",
    "        geo_data.append(datai)\n",
    "        geoid_list.append( rowi['geoid_o'] )\n",
    "    if rowi['geoid_d'] not in geoid_list:\n",
    "        datai = { 'geoid': rowi['geoid_d'] ,  \n",
    "                 'lng': rowi['lng_d'], 'lat': rowi['lat_d'] }\n",
    "        geo_data.append(datai)\n",
    "        geoid_list.append( rowi['geoid_d'] )\n",
    "\n",
    "geo_data = pd.DataFrame(geo_data)\n",
    "print( geo_data.shape )\n",
    "print( geo_data.head() )"
   ]
  },
  {
   "cell_type": "code",
   "execution_count": 45,
   "metadata": {},
   "outputs": [],
   "source": [
    "geo_data.to_csv( r\"/Users/yuhan/Desktop/Gradient_Boost_code/inputs/travel/census_location.csv\", index=False ) "
   ]
  },
  {
   "cell_type": "code",
   "execution_count": 46,
   "metadata": {},
   "outputs": [
    {
     "name": "stdout",
     "output_type": "stream",
     "text": [
      "0       48039660100\n",
      "1       48039660200\n",
      "2       48039660301\n",
      "3       48039660302\n",
      "4       48039660303\n",
      "           ...     \n",
      "1589    48473680501\n",
      "1590    48473680502\n",
      "1591    48473680601\n",
      "1592    48473680602\n",
      "1593    48473980000\n",
      "Name: TRACTFIPS, Length: 1594, dtype: object\n"
     ]
    }
   ],
   "source": [
    "print( HG_geodata.TRACTFIPS )"
   ]
  },
  {
   "cell_type": "code",
   "execution_count": 47,
   "metadata": {},
   "outputs": [
    {
     "name": "stdout",
     "output_type": "stream",
     "text": [
      "315068\n",
      "157534\n",
      "(157534, 15)\n"
     ]
    }
   ],
   "source": [
    "print( len( travel_daily_dfx[['geoid_o', 'geoid_d']].values.ravel('K') ) )\n",
    "print( len( travel_daily_dfx[['geoid_o']] ) )\n",
    "print( travel_daily_dfx.shape )\n"
   ]
  },
  {
   "cell_type": "code",
   "execution_count": 48,
   "metadata": {},
   "outputs": [
    {
     "name": "stderr",
     "output_type": "stream",
     "text": [
      "/Users/yuhan/opt/anaconda3/envs/hazard_env/lib/python3.11/site-packages/pyproj/crs/crs.py:141: FutureWarning: '+init=<authority>:<code>' syntax is deprecated. '<authority>:<code>' is the preferred initialization method. When making the change, be mindful of axis order changes: https://pyproj4.github.io/pyproj/stable/gotchas.html#axis-order-changes-in-proj-6\n",
      "  in_crs_string = _prepare_from_proj_string(in_crs_string)\n"
     ]
    },
    {
     "data": {
      "text/plain": [
       "Index(['OBJECTID', 'Join_Count', 'TARGET_FID', 'NRI_ID', 'STATE', 'STATEABBRV',\n",
       "       'STATEFIPS', 'COUNTY', 'COUNTYTYPE', 'COUNTYFIPS',\n",
       "       ...\n",
       "       'WNTW_RISKS', 'WNTW_RISKR', 'NRI_VER', 'Shape_Leng', 'geoid', 'lng',\n",
       "       'lat', 'Shape_Le_1', 'Shape_Area', 'geometry'],\n",
       "      dtype='object', length=476)"
      ]
     },
     "execution_count": 48,
     "metadata": {},
     "output_type": "execute_result"
    }
   ],
   "source": [
    "pth_hgcen = r\"/Users/yuhan/Desktop/Gradient_Boost_code/inputs/data_export/Houston-Galveston_joincen.shp\"\n",
    "read_start          = time.process_time()\n",
    "HG_census_data      = read_dataframe( pth_hgcen )\n",
    "read_end            = time.process_time()\n",
    "HG_census_data      = HG_census_data.to_crs({'init':'epsg:4326'})\n",
    "HG_census_data.columns"
   ]
  },
  {
   "cell_type": "code",
   "execution_count": 54,
   "metadata": {},
   "outputs": [],
   "source": [
    "def filter_time0(row):\n",
    "    if row['route_time'] < 2700:\n",
    "        val = 1 \n",
    "    else:\n",
    "        val = 0\n",
    "    return val\n",
    "\n",
    "def filter_time(row):\n",
    "    if row['route_time'] < 2700:\n",
    "        val = 1 *row['visitor_flows']\n",
    "    else:\n",
    "        val = 0\n",
    "    return val"
   ]
  },
  {
   "cell_type": "code",
   "execution_count": 60,
   "metadata": {},
   "outputs": [],
   "source": [
    "HG_census_data['geoid'] = HG_census_data['geoid'].apply(int).apply(str)\n",
    "#1000\n",
    "results_list = []\n",
    "for idx, rowi in HG_census_data.iterrows():\n",
    "    #print( rowi )\n",
    "    censusid    = rowi[\"geoid\"]\n",
    "    result      = travel_daily_dfx.loc[ travel_daily_dfx[ 'geoid_o' ] == \n",
    "                                       censusid ].apply( filter_time, axis=1)\n",
    "    result0      = travel_daily_dfx.loc[ travel_daily_dfx[ 'geoid_o' ] == \n",
    "                                       censusid ].apply( filter_time0, axis=1)\n",
    "    #2700\n",
    "    rowi['Accesbity']   = result.sum()\n",
    "    rowi['WghtAcces']   = result0.sum()\n",
    "    results_list.append( rowi )\n",
    "HG_census_result = pd.DataFrame( results_list )\n"
   ]
  },
  {
   "cell_type": "code",
   "execution_count": 61,
   "metadata": {},
   "outputs": [
    {
     "name": "stdout",
     "output_type": "stream",
     "text": [
      "   OBJECTID  Join_Count  TARGET_FID        NRI_ID  STATE STATEABBRV STATEFIPS  \\\n",
      "0         1           1           0  T48039660100  Texas         TX        48   \n",
      "1         2           1           1  T48039660200  Texas         TX        48   \n",
      "2         3           1           2  T48039660301  Texas         TX        48   \n",
      "3         4           1           3  T48039660302  Texas         TX        48   \n",
      "4         5           1           4  T48039660303  Texas         TX        48   \n",
      "\n",
      "     COUNTY COUNTYTYPE COUNTYFIPS  ...     NRI_VER    Shape_Leng        geoid  \\\n",
      "0  Brazoria     County        039  ...  March 2023  13185.025034  48039660100   \n",
      "1  Brazoria     County        039  ...  March 2023  23091.925862  48039660200   \n",
      "2  Brazoria     County        039  ...  March 2023   9035.456894  48039660300   \n",
      "3  Brazoria     County        039  ...  March 2023   9513.814768  48039660300   \n",
      "4  Brazoria     County        039  ...  March 2023  12161.030496  48039660100   \n",
      "\n",
      "         lng        lat  Shape_Le_1    Shape_Area  \\\n",
      "0 -95.231680  29.552359    0.112132  5.627593e+06   \n",
      "1 -95.237135  29.512338    0.187607  2.400367e+07   \n",
      "2 -95.261106  29.544076    0.077475  4.203352e+06   \n",
      "3 -95.261106  29.544076    0.081189  3.934200e+06   \n",
      "4 -95.231680  29.552359    0.102543  5.098695e+06   \n",
      "\n",
      "                                            geometry  Accesbity WghtAcces  \n",
      "0  POLYGON ((-95.21596590919933 29.55779732218872...       1631        54  \n",
      "1  POLYGON ((-95.21910491006349 29.54125631392781...       3031        67  \n",
      "2  POLYGON ((-95.27740094180001 29.56203431882880...       6387        93  \n",
      "3  POLYGON ((-95.24466392410079 29.54824031583797...       6387        93  \n",
      "4  POLYGON ((-95.2319289177853 29.547399316625217...       1631        54  \n",
      "\n",
      "[5 rows x 478 columns]\n"
     ]
    }
   ],
   "source": [
    "print( HG_census_result.head() )\n"
   ]
  },
  {
   "cell_type": "code",
   "execution_count": 62,
   "metadata": {},
   "outputs": [
    {
     "data": {
      "text/plain": [
       "<Axes: >"
      ]
     },
     "execution_count": 62,
     "metadata": {},
     "output_type": "execute_result"
    },
    {
     "data": {
      "image/png": "[encoded data removed]",
      "text/plain": [
       "<Figure size 640x480 with 1 Axes>"
      ]
     },
     "metadata": {},
     "output_type": "display_data"
    }
   ],
   "source": [
    "np.log( HG_census_result.WghtAcces).hist()"
   ]
  },
  {
   "cell_type": "code",
   "execution_count": 64,
   "metadata": {},
   "outputs": [],
   "source": [
    "HG_census_result['logWgtAcc'] = np.log( HG_census_result.Accesbity )\n",
    "HG_census_result2 = gpd.GeoDataFrame( HG_census_result , geometry = 'geometry', \n",
    "                                crs=\"EPSG:4326\")\n",
    "HG_census_result2.to_file(filename= r'/Users/yuhan/Desktop/Gradient_Boost_code/inputs/data_export/HG_census_access.shp',\n",
    "                            driver='ESRI Shapefile')\n"
   ]
  }
 ],
 "metadata": {
  "kernelspec": {
   "display_name": "hazard_env",
   "language": "python",
   "name": "python3"
  },
  "language_info": {
   "codemirror_mode": {
    "name": "ipython",
    "version": 3
   },
   "file_extension": ".py",
   "mimetype": "text/x-python",
   "name": "python",
   "nbconvert_exporter": "python",
   "pygments_lexer": "ipython3",
   "version": "3.11.4"
  }
 },
 "nbformat": 4,
 "nbformat_minor": 2
}
