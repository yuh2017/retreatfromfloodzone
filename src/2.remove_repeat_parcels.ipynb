{
 "cells": [
  {
   "cell_type": "code",
   "execution_count": 277,
   "metadata": {},
   "outputs": [],
   "source": [
    "import os\n",
    "import pandas as pd\n",
    "import numpy as np\n",
    "import matplotlib.pyplot as plt\n",
    "from sklearn import preprocessing\n",
    "from sklearn import linear_model\n",
    "from sklearn.model_selection import train_test_split\n",
    "from sklearn.ensemble import AdaBoostClassifier\n",
    "from sklearn.tree import DecisionTreeClassifier\n",
    "from sklearn.linear_model import LogisticRegression\n",
    "from sklearn.preprocessing import MinMaxScaler\n",
    "from sklearn.neural_network import MLPRegressor,MLPClassifier\n",
    "from sklearn.preprocessing import StandardScaler\n",
    "from sklearn.model_selection import cross_val_score\n",
    "from sklearn.metrics import confusion_matrix\n",
    "from scipy.spatial import cKDTree\n",
    "from sklearn.svm import SVR\n",
    "import geopandas as gpd\n",
    "import operator \n",
    "import matplotlib.pyplot as plt\n",
    "from sklearn import datasets\n",
    "import matplotlib.pyplot as plt\n",
    "import math\n",
    "from pyogrio import read_dataframe, write_dataframe\n",
    "from simpledbf import Dbf5\n",
    "import math"
   ]
  },
  {
   "cell_type": "markdown",
   "metadata": {},
   "source": [
    "# This step aims to remove repeated parcels in the dataset and save it to Parcels_tf6_5_area_unique\n"
   ]
  },
  {
   "cell_type": "code",
   "execution_count": 247,
   "metadata": {},
   "outputs": [
    {
     "name": "stderr",
     "output_type": "stream",
     "text": [
      "/Users/yuhan/opt/anaconda3/envs/hazard_env/lib/python3.11/site-packages/pyogrio/raw.py:137: RuntimeWarning: driver ESRI Shapefile does not support open option INDEX_COL\n",
      "  result = ogr_read(\n"
     ]
    }
   ],
   "source": [
    "\n",
    "fp = \"../inputs/data_export/Parcels_tf6_5_area.shp\"\n",
    "Geodata = read_dataframe(fp, index_col=0)\n"
   ]
  },
  {
   "cell_type": "code",
   "execution_count": 264,
   "metadata": {},
   "outputs": [
    {
     "name": "stdout",
     "output_type": "stream",
     "text": [
      "MATTERN JOHN L & BEVERLY A\n",
      "GU QING\n",
      "False\n"
     ]
    }
   ],
   "source": [
    "a = 134775\n",
    "b = 165146\n",
    "print( Geodata.loc[a].NAME )\n",
    "print( Geodata.loc[b].NAME )\n",
    "\n",
    "print( Geodata.loc[a].NAME == Geodata.loc[b].NAME )\n"
   ]
  },
  {
   "cell_type": "code",
   "execution_count": 262,
   "metadata": {},
   "outputs": [
    {
     "data": {
      "text/plain": [
       "'WALKER BEATRICE'"
      ]
     },
     "execution_count": 262,
     "metadata": {},
     "output_type": "execute_result"
    }
   ],
   "source": [
    "Geodata.loc[151272].NAME"
   ]
  },
  {
   "cell_type": "code",
   "execution_count": 248,
   "metadata": {},
   "outputs": [
    {
     "name": "stdout",
     "output_type": "stream",
     "text": [
      "Index(['OBJECTID', 'GEOID', 'ID', 'NAME', 'CITY', 'ST', 'ZIP', 'SITUS_NO',\n",
      "       'SITUS', 'LEGAL',\n",
      "       ...\n",
      "       'geoid_1', 'lng', 'lat', 'Accessb', 'logAccess', 'release',\n",
      "       'capture_da', 'area_2', 'pararea', 'geometry'],\n",
      "      dtype='object', length=125)\n"
     ]
    }
   ],
   "source": [
    "print(Geodata.columns)\n",
    "Geodata[\"FID\"] = Geodata.index"
   ]
  },
  {
   "cell_type": "code",
   "execution_count": 253,
   "metadata": {},
   "outputs": [],
   "source": [
    "#dbf_poly_neighbors = Dbf5('../inputs/data_export/parcel_poly_neighbors.dbf')\n",
    "\n",
    "dbf_poly_neighbors = Dbf5('../inputs/data_export/parcel_poly_neighbors_updated.dbf')\n",
    "df_poly_neighbors  = dbf_poly_neighbors.to_dataframe()"
   ]
  },
  {
   "cell_type": "code",
   "execution_count": 254,
   "metadata": {},
   "outputs": [
    {
     "name": "stdout",
     "output_type": "stream",
     "text": [
      "   src_index  nbr_index  AREA      LENGTH  NODE_COUNT\n",
      "0          0      82181   0.0   92.260318           0\n",
      "1          0      82231   0.0  182.571799           0\n",
      "2          0      82248   0.0   88.505310           0\n",
      "3          1      82224   0.0   24.510566           0\n",
      "4          1      82231   0.0   43.855657           0\n"
     ]
    }
   ],
   "source": [
    "print( df_poly_neighbors.head() )"
   ]
  },
  {
   "cell_type": "code",
   "execution_count": 255,
   "metadata": {},
   "outputs": [
    {
     "name": "stdout",
     "output_type": "stream",
     "text": [
      "(636780, 5)\n",
      "(36, 5)\n"
     ]
    }
   ],
   "source": [
    "print( df_poly_neighbors.shape )\n",
    "df_neighbors_select = df_poly_neighbors.loc[ df_poly_neighbors['AREA'] > 0  ]\n",
    "print( df_neighbors_select.shape )\n"
   ]
  },
  {
   "cell_type": "code",
   "execution_count": 44,
   "metadata": {},
   "outputs": [],
   "source": [
    "src_FID_list = df_neighbors_select.src_FID.unique()\n",
    "neighorlist = []\n",
    "for src_fid in src_FID_list:\n",
    "    x = df_poly_neighbors.loc[ ( df_poly_neighbors['src_FID'] == src_fid) &\n",
    "                               ( df_poly_neighbors['pararea'] > 0 ) , 'nbr_FID' ].tolist()\n",
    "    if len(x) > 0:\n",
    "        #print(x)\n",
    "        x.append( src_fid )\n",
    "        neighorlist.append( set(x) )\n",
    "        #print(x)\n",
    "        #break\n"
   ]
  },
  {
   "cell_type": "code",
   "execution_count": 45,
   "metadata": {},
   "outputs": [
    {
     "name": "stdout",
     "output_type": "stream",
     "text": [
      "131654\n"
     ]
    }
   ],
   "source": [
    "print( len(neighorlist) )"
   ]
  },
  {
   "cell_type": "code",
   "execution_count": 61,
   "metadata": {},
   "outputs": [],
   "source": [
    "repeat_neighorlist = list( set( frozenset(item) for item in neighorlist ))"
   ]
  },
  {
   "cell_type": "code",
   "execution_count": 62,
   "metadata": {},
   "outputs": [
    {
     "name": "stdout",
     "output_type": "stream",
     "text": [
      "55377\n"
     ]
    }
   ],
   "source": [
    "print( len( repeat_neighorlist ) )\n"
   ]
  },
  {
   "cell_type": "code",
   "execution_count": 63,
   "metadata": {},
   "outputs": [],
   "source": [
    "#repeat_neighorlist"
   ]
  },
  {
   "cell_type": "code",
   "execution_count": 64,
   "metadata": {},
   "outputs": [
    {
     "name": "stdout",
     "output_type": "stream",
     "text": [
      "[144858, 144859]\n",
      "\n"
     ]
    },
    {
     "data": {
      "text/plain": [
       "array([4597.07])"
      ]
     },
     "execution_count": 64,
     "metadata": {},
     "output_type": "execute_result"
    }
   ],
   "source": [
    "print( list( repeat_neighorlist[2] ) )\n",
    "\n",
    "print( )\n",
    "    \n",
    "np.unique( Geodata.loc[ Geodata['FID'].isin( \n",
    "    list( repeat_neighorlist[2] ) ) ].pararea.values )\n"
   ]
  },
  {
   "cell_type": "code",
   "execution_count": 65,
   "metadata": {},
   "outputs": [
    {
     "data": {
      "text/plain": [
       "Index(['OBJECTID', 'GEOID', 'ID', 'NAME', 'CITY', 'ST', 'ZIP', 'SITUS_NO',\n",
       "       'SITUS', 'LEGAL',\n",
       "       ...\n",
       "       'lng', 'lat', 'Accessb', 'logAccess', 'release', 'capture_da', 'area_2',\n",
       "       'pararea', 'geometry', 'FID'],\n",
       "      dtype='object', length=126)"
      ]
     },
     "execution_count": 65,
     "metadata": {},
     "output_type": "execute_result"
    }
   ],
   "source": [
    "Geodata.columns"
   ]
  },
  {
   "cell_type": "code",
   "execution_count": 212,
   "metadata": {},
   "outputs": [
    {
     "name": "stdout",
     "output_type": "stream",
     "text": [
      "Total repreated set is 55377\n",
      "0\n",
      "20000\n",
      "40000\n"
     ]
    }
   ],
   "source": [
    "nonrepreat_list = []\n",
    "unique_rows     = []\n",
    "iter1 = 0\n",
    "iter2 = 0\n",
    "print( \"Total repreated set is {}\".format( len( repeat_neighorlist ) ) )\n",
    "for row in repeat_neighorlist:\n",
    "    if iter1 % 20000 == 0:\n",
    "        print( iter1 )\n",
    "    neighborsi = list( row )\n",
    "    filtered = Geodata.loc[ Geodata['FID'].isin( neighborsi ) ]\n",
    "    neighbor_areas = filtered.pararea.values\n",
    "    neighbor_names = filtered.NAME.values\n",
    "\n",
    "    ratio_arg = np.min(neighbor_areas)*1.0 / np.max(neighbor_areas)\n",
    "    if len( np.unique( neighbor_areas ) ) == 1 :\n",
    "        result_df = filtered.drop_duplicates( \n",
    "                subset=['pararea'] ).to_dict('records')\n",
    "        unique_rows.append( result_df[0] )\n",
    "        nonrepreat_list.extend( neighborsi )\n",
    "    elif len( np.unique( neighbor_names ) ) == 1:\n",
    "        result_df = filtered.drop_duplicates( \n",
    "                subset=['NAME'] ).to_dict('records')\n",
    "        unique_rows.append( result_df[0] )\n",
    "        nonrepreat_list.extend( neighborsi )\n",
    "    elif ratio_arg > 0.9 :\n",
    "        #index_min = np.argmin( neighbor_areas )\n",
    "        index_max = np.argmax( neighborsi )\n",
    "        #kept_neighbor = neighborsi[index_min]\n",
    "        kept_neighbor = neighborsi[ index_max ]\n",
    "        result_df2 = Geodata.loc[ Geodata['FID'] == kept_neighbor ].to_dict('records')\n",
    "        #print( Geodata.loc[ Geodata['FID'].isin( neighborsi ) ] )\n",
    "        unique_rows.append( result_df2[0] )\n",
    "        # print( result_df2 )\n",
    "        # print( Geodata.loc[ Geodata['FID'] == kept_neighbor][[\"LANDUSE\", \"EXEMPT\",\n",
    "        #                     \"VAL19TOT\", \"VAL19LAND\",\n",
    "        #                     \"Bldg_Value\", \"Prop_Use\",\n",
    "        #                     \"Occupancy\", \"H_ft\"]]  )\n",
    "        #neighborsi_update = neighborsi.remove( kept_neighbor )\n",
    "        nonrepreat_list.extend( neighborsi )\n",
    "        #break\n",
    "    elif ratio_arg > 0 and ratio_arg <= 0.9:\n",
    "        index_max = np.argmax( neighbor_areas )\n",
    "        #index_max = np.argmax( neighborsi )\n",
    "        kept_neighbor = neighborsi[index_max]\n",
    "        result_df2 = Geodata.loc[ Geodata['FID'] == kept_neighbor ].to_dict('records')\n",
    "        #print( Geodata.loc[ Geodata['FID'].isin( neighborsi ) ] )\n",
    "        unique_rows.append( result_df2[0] )\n",
    "        nonrepreat_list.extend( neighborsi )    \n",
    "    else:\n",
    "        iter2 = iter2 +1\n",
    "        # print( Geodata.loc[ Geodata['FID'] == kept_neighbor][[\"LANDUSE\", \"EXEMPT\",\n",
    "        #                     \"VAL19TOT\", \"VAL19LAND\",\n",
    "        #                     \"Bldg_Value\", \"Prop_Use\",\n",
    "        #                     \"Occupancy\", \"H_ft\"]]  )\n",
    "        #neighborsi_update = neighborsi.remove( kept_neighbor )\n",
    "    #nonrepreat_list.extend( neighborsi )\n",
    "    iter1       = iter1 + 1\n",
    "unique_rows_df  = pd.DataFrame( unique_rows )\n",
    "kept_rows       = Geodata.drop( Geodata[Geodata['FID'].isin( nonrepreat_list ) ].index )\n"
   ]
  },
  {
   "cell_type": "code",
   "execution_count": 213,
   "metadata": {},
   "outputs": [
    {
     "data": {
      "text/plain": [
       "0"
      ]
     },
     "execution_count": 213,
     "metadata": {},
     "output_type": "execute_result"
    }
   ],
   "source": [
    "iter2"
   ]
  },
  {
   "cell_type": "code",
   "execution_count": 221,
   "metadata": {},
   "outputs": [
    {
     "data": {
      "text/plain": [
       "array([6665.5, 6665.5])"
      ]
     },
     "execution_count": 221,
     "metadata": {},
     "output_type": "execute_result"
    }
   ],
   "source": [
    "neighbor_area = Geodata.loc[ Geodata['FID'].isin( neighborsi ) ].pararea.values\n",
    "neighbor_area"
   ]
  },
  {
   "cell_type": "code",
   "execution_count": 222,
   "metadata": {},
   "outputs": [
    {
     "name": "stdout",
     "output_type": "stream",
     "text": [
      "(170194, 127)\n",
      "Updated results is 170194 \n",
      "Geodata shape is 246471 \n"
     ]
    }
   ],
   "source": [
    "frames = [ kept_rows, unique_rows_df]\n",
    "result = pd.concat(frames).reset_index()\n",
    "print(result.shape)\n",
    "print(\"Updated results is {} \".format(result.shape[0]) )\n",
    "print(\"Geodata shape is {} \".format(Geodata.shape[0]) )\n"
   ]
  },
  {
   "cell_type": "code",
   "execution_count": 223,
   "metadata": {},
   "outputs": [],
   "source": [
    "result['index'] = result.index\n",
    "result_gdf = gpd.GeoDataFrame(result, crs=\"EPSG:4326\", geometry = 'geometry')\n"
   ]
  },
  {
   "cell_type": "code",
   "execution_count": 224,
   "metadata": {},
   "outputs": [
    {
     "data": {
      "text/html": [
       "<div>\n",
       "<style scoped>\n",
       "    .dataframe tbody tr th:only-of-type {\n",
       "        vertical-align: middle;\n",
       "    }\n",
       "\n",
       "    .dataframe tbody tr th {\n",
       "        vertical-align: top;\n",
       "    }\n",
       "\n",
       "    .dataframe thead th {\n",
       "        text-align: right;\n",
       "    }\n",
       "</style>\n",
       "<table border=\"1\" class=\"dataframe\">\n",
       "  <thead>\n",
       "    <tr style=\"text-align: right;\">\n",
       "      <th></th>\n",
       "      <th>index</th>\n",
       "      <th>OBJECTID</th>\n",
       "      <th>GEOID</th>\n",
       "      <th>ID</th>\n",
       "      <th>NAME</th>\n",
       "      <th>CITY</th>\n",
       "      <th>ST</th>\n",
       "      <th>ZIP</th>\n",
       "      <th>SITUS_NO</th>\n",
       "      <th>SITUS</th>\n",
       "      <th>...</th>\n",
       "      <th>lng</th>\n",
       "      <th>lat</th>\n",
       "      <th>Accessb</th>\n",
       "      <th>logAccess</th>\n",
       "      <th>release</th>\n",
       "      <th>capture_da</th>\n",
       "      <th>area_2</th>\n",
       "      <th>pararea</th>\n",
       "      <th>geometry</th>\n",
       "      <th>FID</th>\n",
       "    </tr>\n",
       "  </thead>\n",
       "  <tbody>\n",
       "    <tr>\n",
       "      <th>170189</th>\n",
       "      <td>170189</td>\n",
       "      <td>196276</td>\n",
       "      <td>3510-0046-3012-000</td>\n",
       "      <td>106526</td>\n",
       "      <td>VANDERHOOFVEN JON WESLEY &amp; BETH ANN</td>\n",
       "      <td>MISSOURI CITY</td>\n",
       "      <td>TX</td>\n",
       "      <td>77459-7649</td>\n",
       "      <td>1520</td>\n",
       "      <td>1520 AVE O GALVESTON, TX 77550</td>\n",
       "      <td>...</td>\n",
       "      <td>-94.784394</td>\n",
       "      <td>29.299008</td>\n",
       "      <td>11646.0</td>\n",
       "      <td>9.362718</td>\n",
       "      <td>2</td>\n",
       "      <td>11/16/2019-11/18/2019</td>\n",
       "      <td>53.410</td>\n",
       "      <td>480.785</td>\n",
       "      <td>POLYGON ((-94.78137 29.29622, -94.78150 29.296...</td>\n",
       "      <td>95294</td>\n",
       "    </tr>\n",
       "    <tr>\n",
       "      <th>170190</th>\n",
       "      <td>170190</td>\n",
       "      <td>295046</td>\n",
       "      <td>2492-0002-0015-000</td>\n",
       "      <td>395053</td>\n",
       "      <td>GUSS STEPHEN J &amp; EVELYN</td>\n",
       "      <td>LEAGUE CITY</td>\n",
       "      <td>TX</td>\n",
       "      <td>77573</td>\n",
       "      <td>409</td>\n",
       "      <td>409 PRATTWOOD CT LEAGUE CITY, TX 77573</td>\n",
       "      <td>...</td>\n",
       "      <td>-95.150475</td>\n",
       "      <td>29.479846</td>\n",
       "      <td>118697.0</td>\n",
       "      <td>11.684329</td>\n",
       "      <td>2</td>\n",
       "      <td>11/19/2019-11/24/2019</td>\n",
       "      <td>264.898</td>\n",
       "      <td>677.994</td>\n",
       "      <td>POLYGON ((-95.13451 29.49207, -95.13450 29.491...</td>\n",
       "      <td>130450</td>\n",
       "    </tr>\n",
       "    <tr>\n",
       "      <th>170191</th>\n",
       "      <td>170191</td>\n",
       "      <td>216175</td>\n",
       "      <td>2775-0011-3103-001</td>\n",
       "      <td>196021</td>\n",
       "      <td>HOGAN FRANK G</td>\n",
       "      <td>LA MARQUE</td>\n",
       "      <td>TX</td>\n",
       "      <td>77568-6228</td>\n",
       "      <td>409</td>\n",
       "      <td>409 CHERRY LA MARQUE, TX 77568</td>\n",
       "      <td>...</td>\n",
       "      <td>-94.914202</td>\n",
       "      <td>29.358818</td>\n",
       "      <td>12630.0</td>\n",
       "      <td>9.443830</td>\n",
       "      <td>2</td>\n",
       "      <td>11/19/2019-11/24/2019</td>\n",
       "      <td>284.289</td>\n",
       "      <td>740.597</td>\n",
       "      <td>POLYGON ((-94.95237 29.36354, -94.95256 29.363...</td>\n",
       "      <td>81626</td>\n",
       "    </tr>\n",
       "    <tr>\n",
       "      <th>170192</th>\n",
       "      <td>170192</td>\n",
       "      <td>297933</td>\n",
       "      <td>2815-0009-0029-000</td>\n",
       "      <td>145223</td>\n",
       "      <td>HUNTER ERIC M</td>\n",
       "      <td>LEAGUE CITY</td>\n",
       "      <td>TX</td>\n",
       "      <td>77573-1684</td>\n",
       "      <td>6220</td>\n",
       "      <td>6220 CREEKSIDE LN LEAGUE CITY, TX 77573</td>\n",
       "      <td>...</td>\n",
       "      <td>-95.140503</td>\n",
       "      <td>29.499595</td>\n",
       "      <td>22690.0</td>\n",
       "      <td>10.029680</td>\n",
       "      <td>2</td>\n",
       "      <td>11/19/2019-11/24/2019</td>\n",
       "      <td>205.643</td>\n",
       "      <td>672.292</td>\n",
       "      <td>POLYGON ((-95.15973 29.49534, -95.16000 29.495...</td>\n",
       "      <td>121691</td>\n",
       "    </tr>\n",
       "    <tr>\n",
       "      <th>170193</th>\n",
       "      <td>170193</td>\n",
       "      <td>240342</td>\n",
       "      <td>7042-0000-0047-002</td>\n",
       "      <td>188710</td>\n",
       "      <td>ISTAR BOWLING CENTERS II LP</td>\n",
       "      <td>NEW YORK</td>\n",
       "      <td>NY</td>\n",
       "      <td>10036</td>\n",
       "      <td>2404</td>\n",
       "      <td>2404 PALMER HWY TEXAS CITY, TX 77590</td>\n",
       "      <td>...</td>\n",
       "      <td>-94.931012</td>\n",
       "      <td>29.401320</td>\n",
       "      <td>26282.0</td>\n",
       "      <td>10.176640</td>\n",
       "      <td>2</td>\n",
       "      <td>11/19/2019-11/24/2019</td>\n",
       "      <td>2649.362</td>\n",
       "      <td>6665.500</td>\n",
       "      <td>POLYGON ((-94.92911 29.39482, -94.92911 29.394...</td>\n",
       "      <td>113271</td>\n",
       "    </tr>\n",
       "  </tbody>\n",
       "</table>\n",
       "<p>5 rows × 127 columns</p>\n",
       "</div>"
      ],
      "text/plain": [
       "         index  OBJECTID               GEOID      ID  \\\n",
       "170189  170189    196276  3510-0046-3012-000  106526   \n",
       "170190  170190    295046  2492-0002-0015-000  395053   \n",
       "170191  170191    216175  2775-0011-3103-001  196021   \n",
       "170192  170192    297933  2815-0009-0029-000  145223   \n",
       "170193  170193    240342  7042-0000-0047-002  188710   \n",
       "\n",
       "                                       NAME           CITY  ST         ZIP  \\\n",
       "170189  VANDERHOOFVEN JON WESLEY & BETH ANN  MISSOURI CITY  TX  77459-7649   \n",
       "170190              GUSS STEPHEN J & EVELYN    LEAGUE CITY  TX       77573   \n",
       "170191                        HOGAN FRANK G      LA MARQUE  TX  77568-6228   \n",
       "170192                        HUNTER ERIC M    LEAGUE CITY  TX  77573-1684   \n",
       "170193          ISTAR BOWLING CENTERS II LP       NEW YORK  NY       10036   \n",
       "\n",
       "       SITUS_NO                                    SITUS  ...        lng  \\\n",
       "170189     1520           1520 AVE O GALVESTON, TX 77550  ... -94.784394   \n",
       "170190      409   409 PRATTWOOD CT LEAGUE CITY, TX 77573  ... -95.150475   \n",
       "170191      409           409 CHERRY LA MARQUE, TX 77568  ... -94.914202   \n",
       "170192     6220  6220 CREEKSIDE LN LEAGUE CITY, TX 77573  ... -95.140503   \n",
       "170193     2404     2404 PALMER HWY TEXAS CITY, TX 77590  ... -94.931012   \n",
       "\n",
       "              lat   Accessb  logAccess release             capture_da  \\\n",
       "170189  29.299008   11646.0   9.362718       2  11/16/2019-11/18/2019   \n",
       "170190  29.479846  118697.0  11.684329       2  11/19/2019-11/24/2019   \n",
       "170191  29.358818   12630.0   9.443830       2  11/19/2019-11/24/2019   \n",
       "170192  29.499595   22690.0  10.029680       2  11/19/2019-11/24/2019   \n",
       "170193  29.401320   26282.0  10.176640       2  11/19/2019-11/24/2019   \n",
       "\n",
       "          area_2   pararea                                           geometry  \\\n",
       "170189    53.410   480.785  POLYGON ((-94.78137 29.29622, -94.78150 29.296...   \n",
       "170190   264.898   677.994  POLYGON ((-95.13451 29.49207, -95.13450 29.491...   \n",
       "170191   284.289   740.597  POLYGON ((-94.95237 29.36354, -94.95256 29.363...   \n",
       "170192   205.643   672.292  POLYGON ((-95.15973 29.49534, -95.16000 29.495...   \n",
       "170193  2649.362  6665.500  POLYGON ((-94.92911 29.39482, -94.92911 29.394...   \n",
       "\n",
       "           FID  \n",
       "170189   95294  \n",
       "170190  130450  \n",
       "170191   81626  \n",
       "170192  121691  \n",
       "170193  113271  \n",
       "\n",
       "[5 rows x 127 columns]"
      ]
     },
     "execution_count": 224,
     "metadata": {},
     "output_type": "execute_result"
    }
   ],
   "source": [
    "result_gdf.tail()"
   ]
  },
  {
   "cell_type": "code",
   "execution_count": 225,
   "metadata": {},
   "outputs": [],
   "source": [
    "result_gdf['CensusBlk']     = result_gdf[\"CensusBlk\"].astype(int).apply(str)\n",
    "result_gdf['CensusBloc']    = result_gdf[\"CensusBlk\"].astype(int).apply(str)\n",
    "\n",
    "result_gdf['BUILDVALUE']    = result_gdf[\"BUILDVALUE\"].astype(int)\n",
    "result_gdf['CFLD_EXPB']     = result_gdf[\"CFLD_EXPB\"].astype(int)\n",
    "result_gdf['CFLD_EXPT']     = result_gdf[\"CFLD_EXPT\"].astype(int)\n",
    "\n",
    "result_gdf['VAL19IMP']      = result_gdf[\"VAL19IMP\"].astype(int)\n",
    "result_gdf['VAL19TOT']      = result_gdf[\"VAL19TOT\"].astype(int)\n",
    "result_gdf['Bldg_Value']    = result_gdf[\"Bldg_Value\"].astype(int)"
   ]
  },
  {
   "cell_type": "code",
   "execution_count": 226,
   "metadata": {},
   "outputs": [
    {
     "name": "stdout",
     "output_type": "stream",
     "text": [
      "0     27730\n",
      "1    300000\n",
      "2         0\n",
      "3    214170\n",
      "4     36020\n",
      "Name: VAL19IMP, dtype: int64\n"
     ]
    }
   ],
   "source": [
    "print( result_gdf.VAL19IMP.head() )\n"
   ]
  },
  {
   "cell_type": "code",
   "execution_count": 85,
   "metadata": {},
   "outputs": [],
   "source": [
    "#result_gdf.to_file(filename= \"../inputs/data_export/Parcels_tf6_5_area_unique0.shp\", \n",
    "#                   driver='ESRI Shapefile')"
   ]
  },
  {
   "cell_type": "code",
   "execution_count": 227,
   "metadata": {},
   "outputs": [],
   "source": [
    "write_dataframe(result_gdf, \n",
    "                path = \"../inputs/data_export/Parcels_tf6_5_area_unique.shp\", \n",
    "                driver='ESRI Shapefile')"
   ]
  },
  {
   "cell_type": "markdown",
   "metadata": {},
   "source": [
    "# This step will read the unique parcels and their neighbors"
   ]
  },
  {
   "cell_type": "code",
   "execution_count": 228,
   "metadata": {},
   "outputs": [
    {
     "name": "stderr",
     "output_type": "stream",
     "text": [
      "/Users/yuhan/opt/anaconda3/envs/hazard_env/lib/python3.11/site-packages/pyogrio/raw.py:137: RuntimeWarning: driver ESRI Shapefile does not support open option INDEX_COL\n",
      "  result = ogr_read(\n"
     ]
    }
   ],
   "source": [
    "fp = \"../inputs/data_export/Parcels_tf6_5_area_unique.shp\"\n",
    "Geodata2 = read_dataframe(fp, index_col=0)\n",
    "Geodata2[\"TARGET_FID\"] = Geodata2[\"index\"]\n"
   ]
  },
  {
   "cell_type": "code",
   "execution_count": 229,
   "metadata": {},
   "outputs": [],
   "source": [
    "dbf_neighbors_updated = Dbf5('../inputs/data_export/parcel_poly_neighbors_updated.dbf')\n",
    "df_neighbors_updated  = dbf_neighbors_updated.to_dataframe()\n"
   ]
  },
  {
   "cell_type": "code",
   "execution_count": 235,
   "metadata": {},
   "outputs": [
    {
     "data": {
      "text/html": [
       "<div>\n",
       "<style scoped>\n",
       "    .dataframe tbody tr th:only-of-type {\n",
       "        vertical-align: middle;\n",
       "    }\n",
       "\n",
       "    .dataframe tbody tr th {\n",
       "        vertical-align: top;\n",
       "    }\n",
       "\n",
       "    .dataframe thead th {\n",
       "        text-align: right;\n",
       "    }\n",
       "</style>\n",
       "<table border=\"1\" class=\"dataframe\">\n",
       "  <thead>\n",
       "    <tr style=\"text-align: right;\">\n",
       "      <th></th>\n",
       "      <th>src_index</th>\n",
       "      <th>nbr_index</th>\n",
       "      <th>AREA</th>\n",
       "      <th>LENGTH</th>\n",
       "      <th>NODE_COUNT</th>\n",
       "    </tr>\n",
       "  </thead>\n",
       "  <tbody>\n",
       "    <tr>\n",
       "      <th>0</th>\n",
       "      <td>0</td>\n",
       "      <td>82181</td>\n",
       "      <td>0.0</td>\n",
       "      <td>92.260318</td>\n",
       "      <td>0</td>\n",
       "    </tr>\n",
       "    <tr>\n",
       "      <th>1</th>\n",
       "      <td>0</td>\n",
       "      <td>82231</td>\n",
       "      <td>0.0</td>\n",
       "      <td>182.571799</td>\n",
       "      <td>0</td>\n",
       "    </tr>\n",
       "    <tr>\n",
       "      <th>2</th>\n",
       "      <td>0</td>\n",
       "      <td>82248</td>\n",
       "      <td>0.0</td>\n",
       "      <td>88.505310</td>\n",
       "      <td>0</td>\n",
       "    </tr>\n",
       "    <tr>\n",
       "      <th>3</th>\n",
       "      <td>1</td>\n",
       "      <td>82224</td>\n",
       "      <td>0.0</td>\n",
       "      <td>24.510566</td>\n",
       "      <td>0</td>\n",
       "    </tr>\n",
       "    <tr>\n",
       "      <th>4</th>\n",
       "      <td>1</td>\n",
       "      <td>82231</td>\n",
       "      <td>0.0</td>\n",
       "      <td>43.855657</td>\n",
       "      <td>0</td>\n",
       "    </tr>\n",
       "  </tbody>\n",
       "</table>\n",
       "</div>"
      ],
      "text/plain": [
       "   src_index  nbr_index  AREA      LENGTH  NODE_COUNT\n",
       "0          0      82181   0.0   92.260318           0\n",
       "1          0      82231   0.0  182.571799           0\n",
       "2          0      82248   0.0   88.505310           0\n",
       "3          1      82224   0.0   24.510566           0\n",
       "4          1      82231   0.0   43.855657           0"
      ]
     },
     "execution_count": 235,
     "metadata": {},
     "output_type": "execute_result"
    }
   ],
   "source": [
    "df_neighbors_updated.head()"
   ]
  },
  {
   "cell_type": "code",
   "execution_count": 241,
   "metadata": {},
   "outputs": [
    {
     "data": {
      "text/plain": [
       "0          \n",
       "1          \n",
       "2          \n",
       "3          \n",
       "4          \n",
       "         ..\n",
       "170189     \n",
       "170190     \n",
       "170191     \n",
       "170192     \n",
       "170193     \n",
       "Name: NEIGHBORS, Length: 170194, dtype: object"
      ]
     },
     "execution_count": 241,
     "metadata": {},
     "output_type": "execute_result"
    }
   ],
   "source": [
    "Geodata2.NEIGHBORS\n",
    "#Geodata2.head()"
   ]
  },
  {
   "cell_type": "code",
   "execution_count": 288,
   "metadata": {},
   "outputs": [
    {
     "name": "stdout",
     "output_type": "stream",
     "text": [
      "Index is 0\n",
      "Index is 10000\n",
      "Index is 20000\n",
      "Index is 30000\n",
      "Index is 40000\n",
      "Index is 50000\n",
      "Index is 60000\n",
      "Index is 70000\n",
      "Index is 80000\n",
      "Index is 90000\n",
      "Index is 100000\n",
      "Index is 110000\n",
      "Index is 120000\n",
      "Index is 130000\n",
      "Index is 140000\n",
      "Index is 150000\n",
      "Index is 160000\n",
      "Index is 170000\n"
     ]
    }
   ],
   "source": [
    "Geodata3 = Geodata2.copy()\n",
    "updated_neibor = []\n",
    "countx = 0\n",
    "for idi, rowi in Geodata3.iterrows():\n",
    "    rowi_neighbors = df_neighbors_updated.loc[ \n",
    "        df_neighbors_updated['src_index'] == rowi['TARGET_FID'] ].nbr_index.values\n",
    "    #print( rowi_neighbors )\n",
    "    if pd.isnull( rowi.LANDUSE ):\n",
    "        countx = countx + 1\n",
    "        neighbor_str = ''.join( str(e) for e in rowi_neighbors )\n",
    "        updated_neibor.append( neighbor_str ) \n",
    "    else:\n",
    "        row_landuse = set( rowi.LANDUSE.split(',') )\n",
    "        rowi_updated_neighbors = []\n",
    "        for e in rowi_neighbors:\n",
    "            rowi_land_feature = Geodata3.loc[ Geodata3['TARGET_FID'] == e ].LANDUSE.values[0]\n",
    "            if not pd.isnull( rowi_land_feature ):\n",
    "                landuse_cates = set( rowi_land_feature.split(',') )\n",
    "                if len( row_landuse.intersection( landuse_cates ) ) > 0:\n",
    "                    rowi_updated_neighbors.append(e)\n",
    "        neighbor_str = ','.join( str(e) for e in rowi_updated_neighbors )\n",
    "        updated_neibor.append( neighbor_str ) \n",
    "    if idi % 10000 == 0:\n",
    "        print(\"Index is {}\".format( idi ) )\n",
    "Geodata3[ 'NEIGHBORS' ] = updated_neibor"
   ]
  },
  {
   "cell_type": "code",
   "execution_count": 289,
   "metadata": {},
   "outputs": [
    {
     "data": {
      "text/plain": [
       "3139"
      ]
     },
     "execution_count": 289,
     "metadata": {},
     "output_type": "execute_result"
    }
   ],
   "source": [
    "countx\n"
   ]
  },
  {
   "cell_type": "code",
   "execution_count": 290,
   "metadata": {},
   "outputs": [
    {
     "data": {
      "text/plain": [
       "0                                     82231\n",
       "1                                          \n",
       "2                              86011,130210\n",
       "3                                    140068\n",
       "4                                         5\n",
       "                        ...                \n",
       "170189                         38750,153661\n",
       "170190           49075,126617,126809,165393\n",
       "170191                  89278,154866,160735\n",
       "170192    45249,134369,134855,141671,142777\n",
       "170193                                69412\n",
       "Name: NEIGHBORS, Length: 170194, dtype: object"
      ]
     },
     "execution_count": 290,
     "metadata": {},
     "output_type": "execute_result"
    }
   ],
   "source": [
    "Geodata3.NEIGHBORS"
   ]
  },
  {
   "cell_type": "code",
   "execution_count": 291,
   "metadata": {},
   "outputs": [
    {
     "name": "stderr",
     "output_type": "stream",
     "text": [
      "/Users/yuhan/opt/anaconda3/envs/hazard_env/lib/python3.11/site-packages/pyogrio/raw.py:456: RuntimeWarning: Value '96551293012933129351293612938129391294312948129501295112958105822105826105827105829105830105833105838105846105849105851105852105853105854105856105857105860105861105862105863105865105867105868105869105870105871105873105875105877105878105879105880105881105882105883105884105885105886105887105888105889105890105891105893105894105895105896105899105901105904105909105912106319106345106348106366106367106374106382106389106412106413106427106428106430106433106437106444106454106459106466106468106475106478106483106490106498106500106511106517106521106528106543106548106553106557106560106564106571106576106581106584106590106591106592106594106597106605106606106607106609106616106618106623106624106625106627106631106632106633106639106640106644106653106655106659106660106661106664106666106668106669106671106679106693106703106707106711106715106716106718106723106726106729106731106733106738106739106744106758106765106773106775106776106780106784106789106790106791106793106796106799106800106801106805106807106808106809106810106814106816106819106821106822106824106826106829106831106838106840106842106844106848106849106851106852106856106858106860106861106862106865106867106871106872106873106874106875106876106877106878106879107077107086126369136418137684148506162265' of field NEIGHBORS has been truncated to 254 characters.  This warning will not be emitted any more for that layer.\n",
      "  ogr_write(\n"
     ]
    }
   ],
   "source": [
    "write_dataframe(Geodata3, \n",
    "                path = \"../inputs/data_export/Parcels_tf6_5_area_unique.shp\", \n",
    "                driver='ESRI Shapefile')"
   ]
  },
  {
   "cell_type": "code",
   "execution_count": 292,
   "metadata": {},
   "outputs": [
    {
     "data": {
      "text/plain": [
       "'2,3,4,5,5'"
      ]
     },
     "execution_count": 292,
     "metadata": {},
     "output_type": "execute_result"
    }
   ],
   "source": [
    "','.join( str(e) for e in [2,3,4,5,5] )\n"
   ]
  },
  {
   "cell_type": "code",
   "execution_count": 294,
   "metadata": {},
   "outputs": [
    {
     "data": {
      "text/plain": [
       "array(['CL', 'PF, SF', 'PU', 'CR', 'RL', 'RH', 'BF', 'RF', 'UN, UW, WF',\n",
       "       'DE', 'CO', 'WF', 'R1, RL', 'BV', 'BA, RF', 'UW', 'GB', 'RF, RH',\n",
       "       'RA', 'RF, RW', 'F5, RH', 'PF', 'RS, WF', 'PF, RS', 'F2', 'E1',\n",
       "       'D1', 'UN', 'C1', 'RW', 'BA, PF, PL, RS', 'RF, RL', 'PF, PL', 'F4',\n",
       "       'BF, PU', 'UW, WF', 'CL, D1', 'DE, RL', 'RA, RL', 'WV', 'CO, D1',\n",
       "       'DE, RF', 'PWL, RL', 'PL, RL', 'D1, RH', 'IL, RL', 'PF, RL',\n",
       "       'E1, RF', 'E1, RH', 'RH, UN', 'GF', 'GC', 'F8, RL', 'RH, RS',\n",
       "       'DE, RH', 'BF, BV', 'ML, WF', 'RH, RL', 'CL, PF', 'RL, WV',\n",
       "       'E2, RL', 'LT', 'RA, WL', 'RL, WF', 'PF, UN, UW',\n",
       "       'CN, DE, PF, RS, SF', 'BA, PF', 'PL, RF', 'F2, RA', 'C1, RH',\n",
       "       'DE, PF, SF', 'PF, RS, SF', 'BA, RF, RH', 'CL, WF',\n",
       "       'D1, E1, RH, UW', 'WF, WV', 'CN', 'RS', 'BA', 'RS, WV', 'TL',\n",
       "       'ML, RH', 'CN, RL', 'OT', 'RH, RW', 'CL, CR', 'RF, UW', 'D1, PF',\n",
       "       'RA, RH', 'RF, WF', 'PF, UN', 'CO, UN', 'DE, RF, RS', 'F8',\n",
       "       'RL, UW', 'PU, UN', 'D1, RF, SF', 'D1, RF', 'ML, RF', 'RF, UN',\n",
       "       '..........', 'F5', 'IND', 'IL', 'SF', 'RW, WF', 'ML, UN',\n",
       "       'RA, RH, WL', 'CDO', 'DE, GB', 'E2', 'BA, RL', 'ML, UN, UW',\n",
       "       'CO, RW', 'PF, WF', 'CL, RL', 'BA, CO', 'UN, WF', 'CO, DE', 'NP',\n",
       "       'E1, UN', 'CN, RH', 'D1, RL', 'R1', 'PF, PU, RS', 'ML, PF',\n",
       "       'CN, UN', 'ML, RH, UN', 'BA, CN, DE, RS', 'E2, RH', 'LAND',\n",
       "       'DE, RF, RL', 'CO, RL', 'GB, RF, RS', 'A1', 'RL, RS', 'CL, IL',\n",
       "       'DE, PF', 'CL, RF', 'FR, RS', 'F3, PF', 'F7', 'RW, UN', 'RL, RW',\n",
       "       'BA, DE, RF', 'OS, RL', 'PU, RL', 'RF, RS', 'UN, WL', 'A2',\n",
       "       'BA, PF, SF', 'RF, SF', 'RA, RF', 'CL, UW', 'BA, RF, UW',\n",
       "       'UW, WF, WL', 'WL', 'PWL', 'PL', 'CL, RL, UW, WF, WV',\n",
       "       'RL, UW, WV', 'L', 'CO, UW', 'CN, UW', 'RL, WL', 'UN, UW',\n",
       "       'CN, RS, UW, WF', 'WF, WL', 'PU, WF', 'FR', 'IL, UW', 'PF, RS, UW',\n",
       "       'UW, WF, WV', 'ML', 'BA, RH', 'RS, UN', 'ML, UW', 'E1, UW', 'BS',\n",
       "       'IC', 'RH, UW', 'F8, RH', 'F8, UN', 'E2, WL', 'RF, WL', 'CN, E1',\n",
       "       None, 'RF, UW, WF', 'UW, WL', 'CO, UW, WF', 'IND, WL', 'BF, UW',\n",
       "       'PU, UW', 'CN, RW, UN', 'DE, UN', 'BA, DE', 'RL, UN', 'ML, RS',\n",
       "       'BA, RF, SF', 'RA, UW', 'CN, PF, UW', 'BA, PF, WL',\n",
       "       'CL, PF, RL, RS, SF, UN', 'IP', 'BA, CN, RF', 'PF, UW', 'D1, UN',\n",
       "       'DE, PL, RF', 'PWL, RF', 'DS', 'BA, DE, PF, PL, RS, SF',\n",
       "       'PF, RS, WF', 'DE, RA, UN', 'CL, DE', 'CL, PWL, RL', 'RF, RL, RS',\n",
       "       'RS, SF', 'BA, CN', 'CN, RS', 'D1, E1, RF, RH', 'DE, PF, RS',\n",
       "       'ML, RL, UN', 'E1, ML', 'CN, PL, UN', 'D1, E1', 'RS, UW', 'BA, CL',\n",
       "       'FR, RF', 'CO, PF', 'CL, OT', 'PL, UN', 'PWL, UN', 'F6', 'E1, E2',\n",
       "       'DE, E1', 'RS, UN, UW, WF, WV', 'PF, RF, RS, SF', 'IND, UW',\n",
       "       'CN, ML', 'CO, F8', 'E1, PU', 'ML, RF, UW', 'BF, RL, RS', 'BF, RL',\n",
       "       'BA, DE, PL', 'D1, RS', 'CO, RS', 'CL, IL, RL', 'D1, RA', 'CR, PF',\n",
       "       'F3', 'CO, DE, PF, UW', 'CL, UN', 'RS, WF, WV', 'D1, F3, RH',\n",
       "       'CN, CO', 'PF, PL, RS, SF, UW, WF, WV', 'GB, RW', 'CO, PL',\n",
       "       'CN, PF', 'PF, RF', 'WL, WV', 'E1, UN, WL', 'BF, UN', 'PF, WL',\n",
       "       'E5, UN', 'E5', 'BA, SF', 'DKM', 'BF, PU, UN', 'C1, WF',\n",
       "       'ML, UN, WL', 'RA, UN', 'E6', 'E5, PU', 'E5, ML', 'E6, ML',\n",
       "       'CN, E1, IND, WL', 'RA, RH, RW', 'PL, RH', 'RS, UW, WF',\n",
       "       'BA, E1, UW, WL', 'ML, PL, RA, RH, UW', 'IL, RF, RL', 'C1, RL',\n",
       "       'PF, RH', 'CL, CO', 'CO, F2', 'BA, PL, RF', 'PF, RS, SF, WF',\n",
       "       'DE, UW, WF', 'CO, ML', 'BA, DE, PF, UN', 'IL, RF', 'CN, RF',\n",
       "       'RL, UN, WF', 'D1, RA, RH', 'E1, F3, RH', 'BA, ML, PF, SF, UW',\n",
       "       'CO, ML, UW', 'BA, RH, RL, RS', 'SF, UW, WF', 'F8, UW, WF',\n",
       "       'CO, E1', 'BA, RH, UN', 'F1, RH', 'E1, RL', 'CN, RF, RH',\n",
       "       'DE, PWL, RF', 'CO, E2', 'IND, PF, SF', 'CO, RH', 'CL, DE, RL',\n",
       "       'FR, PU, SF', 'CO, RF', 'DE, RS, WF, WV', 'F3, RH', 'E1, RA',\n",
       "       'CN, WF', 'E1, PF', 'PF, RH, RL', 'D1, RW', 'CN, IC', 'PL, RF, RH',\n",
       "       'CN, PF, SF', 'DE, PWL, RL', 'CL, RS', 'BA, DE, PF', 'CR, PF, RS',\n",
       "       'RL, WF, WV', 'BA, PF, RS, SF', 'RA, RH, RL', 'CR, SF', 'CO, RA',\n",
       "       'RL, UW, WF, WV', 'F1'], dtype=object)"
      ]
     },
     "execution_count": 294,
     "metadata": {},
     "output_type": "execute_result"
    }
   ],
   "source": [
    "Geodata3.loc[ Geodata3['NEIGHBORS'] == \"\" ].LANDUSE.unique()"
   ]
  },
  {
   "cell_type": "code",
   "execution_count": null,
   "metadata": {},
   "outputs": [],
   "source": []
  },
  {
   "cell_type": "code",
   "execution_count": null,
   "metadata": {},
   "outputs": [],
   "source": []
  }
 ],
 "metadata": {
  "kernelspec": {
   "display_name": "hazard_env",
   "language": "python",
   "name": "python3"
  },
  "language_info": {
   "codemirror_mode": {
    "name": "ipython",
    "version": 3
   },
   "file_extension": ".py",
   "mimetype": "text/x-python",
   "name": "python",
   "nbconvert_exporter": "python",
   "pygments_lexer": "ipython3",
   "version": "3.11.4"
  }
 },
 "nbformat": 4,
 "nbformat_minor": 2
}
