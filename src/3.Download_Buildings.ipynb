{
 "cells": [
  {
   "cell_type": "code",
   "execution_count": 4,
   "metadata": {},
   "outputs": [
    {
     "name": "stdout",
     "output_type": "stream",
     "text": [
      "\u001b[33mDEPRECATION: Loading egg at /Users/yuhan/opt/anaconda3/envs/class_env/lib/python3.11/site-packages/jieba-0.42.1-py3.11.egg is deprecated. pip 23.3 will enforce this behaviour change. A possible replacement is to use pip for package installation..\u001b[0m\u001b[33m\n",
      "\u001b[0mLooking in indexes: https://pypi.tuna.tsinghua.edu.cn/simple\n",
      "Requirement already satisfied: leafmap in /Users/yuhan/opt/anaconda3/envs/class_env/lib/python3.11/site-packages (0.20.2)\n",
      "Collecting leafmap\n",
      "  Downloading https://pypi.tuna.tsinghua.edu.cn/packages/3a/2c/cced57de150cd423fd992935d060798da7c2a3cf8b476d7f64092d66f3fe/leafmap-0.29.2-py2.py3-none-any.whl (1.8 MB)\n",
      "\u001b[2K     \u001b[90m━━━━━━━━━━━━━━━━━━━━━━━━━━━━━━━━━━━━━━━━\u001b[0m \u001b[32m1.8/1.8 MB\u001b[0m \u001b[31m1.4 MB/s\u001b[0m eta \u001b[36m0:00:00\u001b[0m00:01\u001b[0m00:01\u001b[0m0m\n",
      "\u001b[?25hRequirement already satisfied: geopandas in /Users/yuhan/opt/anaconda3/envs/class_env/lib/python3.11/site-packages (0.12.2)\n",
      "Collecting geopandas\n",
      "  Downloading https://pypi.tuna.tsinghua.edu.cn/packages/3e/cf/ede993ed7070c5487e6db550aad490178c06eaa48ad26ff5e5263f995fba/geopandas-0.14.1-py3-none-any.whl (1.1 MB)\n",
      "\u001b[2K     \u001b[90m━━━━━━━━━━━━━━━━━━━━━━━━━━━━━━━━━━━━━━━━\u001b[0m \u001b[32m1.1/1.1 MB\u001b[0m \u001b[31m12.9 MB/s\u001b[0m eta \u001b[36m0:00:00\u001b[0ma \u001b[36m0:00:01\u001b[0m\n",
      "\u001b[?25hRequirement already satisfied: bqplot in /Users/yuhan/opt/anaconda3/envs/class_env/lib/python3.11/site-packages (from leafmap) (0.12.39)\n",
      "Requirement already satisfied: colour in /Users/yuhan/opt/anaconda3/envs/class_env/lib/python3.11/site-packages (from leafmap) (0.1.5)\n",
      "Collecting duckdb (from leafmap)\n",
      "  Downloading https://pypi.tuna.tsinghua.edu.cn/packages/d7/de/134a8310d18166f1ceb915038259bc0a0bb538d5f4d5a43bfc9632282486/duckdb-0.9.2-cp311-cp311-macosx_11_0_arm64.whl (13.2 MB)\n",
      "\u001b[2K     \u001b[90m━━━━━━━━━━━━━━━━━━━━━━━━━━━━━━━━━━━━━━━━\u001b[0m \u001b[32m13.2/13.2 MB\u001b[0m \u001b[31m11.3 MB/s\u001b[0m eta \u001b[36m0:00:00\u001b[0m00:01\u001b[0m00:01\u001b[0m\n",
      "\u001b[?25hRequirement already satisfied: folium in /Users/yuhan/opt/anaconda3/envs/class_env/lib/python3.11/site-packages (from leafmap) (0.14.0)\n",
      "Requirement already satisfied: gdown in /Users/yuhan/opt/anaconda3/envs/class_env/lib/python3.11/site-packages (from leafmap) (4.6.4)\n",
      "Requirement already satisfied: geojson in /Users/yuhan/opt/anaconda3/envs/class_env/lib/python3.11/site-packages (from leafmap) (3.0.1)\n",
      "Requirement already satisfied: ipyevents in /Users/yuhan/opt/anaconda3/envs/class_env/lib/python3.11/site-packages (from leafmap) (2.0.1)\n",
      "Requirement already satisfied: ipyfilechooser in /Users/yuhan/opt/anaconda3/envs/class_env/lib/python3.11/site-packages (from leafmap) (0.6.0)\n",
      "Requirement already satisfied: ipyleaflet in /Users/yuhan/opt/anaconda3/envs/class_env/lib/python3.11/site-packages (from leafmap) (0.17.2)\n",
      "Requirement already satisfied: ipywidgets in /Users/yuhan/opt/anaconda3/envs/class_env/lib/python3.11/site-packages (from leafmap) (7.7.5)\n",
      "Requirement already satisfied: matplotlib in /Users/yuhan/opt/anaconda3/envs/class_env/lib/python3.11/site-packages (from leafmap) (3.7.0)\n",
      "Requirement already satisfied: numpy in /Users/yuhan/opt/anaconda3/envs/class_env/lib/python3.11/site-packages (from leafmap) (1.24.2)\n",
      "Requirement already satisfied: pandas in /Users/yuhan/opt/anaconda3/envs/class_env/lib/python3.11/site-packages (from leafmap) (1.5.3)\n",
      "Requirement already satisfied: plotly in /Users/yuhan/opt/anaconda3/envs/class_env/lib/python3.11/site-packages (from leafmap) (5.14.1)\n",
      "Requirement already satisfied: pyshp in /Users/yuhan/opt/anaconda3/envs/class_env/lib/python3.11/site-packages (from leafmap) (2.3.1)\n",
      "Requirement already satisfied: pystac-client in /Users/yuhan/opt/anaconda3/envs/class_env/lib/python3.11/site-packages (from leafmap) (0.6.0)\n",
      "Requirement already satisfied: python-box in /Users/yuhan/opt/anaconda3/envs/class_env/lib/python3.11/site-packages (from leafmap) (7.0.0)\n",
      "Requirement already satisfied: scooby in /Users/yuhan/opt/anaconda3/envs/class_env/lib/python3.11/site-packages (from leafmap) (0.7.2)\n",
      "Requirement already satisfied: whiteboxgui in /Users/yuhan/opt/anaconda3/envs/class_env/lib/python3.11/site-packages (from leafmap) (2.3.0)\n",
      "Requirement already satisfied: xyzservices in /Users/yuhan/opt/anaconda3/envs/class_env/lib/python3.11/site-packages (from leafmap) (2023.5.0)\n",
      "Requirement already satisfied: fiona>=1.8.21 in /Users/yuhan/opt/anaconda3/envs/class_env/lib/python3.11/site-packages (from geopandas) (1.9.1)\n",
      "Requirement already satisfied: packaging in /Users/yuhan/opt/anaconda3/envs/class_env/lib/python3.11/site-packages (from geopandas) (23.1)\n",
      "Requirement already satisfied: pyproj>=3.3.0 in /Users/yuhan/opt/anaconda3/envs/class_env/lib/python3.11/site-packages (from geopandas) (3.5.0)\n",
      "Requirement already satisfied: shapely>=1.8.0 in /Users/yuhan/opt/anaconda3/envs/class_env/lib/python3.11/site-packages (from geopandas) (2.0.1)\n",
      "Requirement already satisfied: attrs>=19.2.0 in /Users/yuhan/opt/anaconda3/envs/class_env/lib/python3.11/site-packages (from fiona>=1.8.21->geopandas) (23.1.0)\n",
      "Requirement already satisfied: certifi in /Users/yuhan/opt/anaconda3/envs/class_env/lib/python3.11/site-packages (from fiona>=1.8.21->geopandas) (2023.7.22)\n",
      "Requirement already satisfied: click~=8.0 in /Users/yuhan/opt/anaconda3/envs/class_env/lib/python3.11/site-packages (from fiona>=1.8.21->geopandas) (8.1.3)\n",
      "Requirement already satisfied: click-plugins>=1.0 in /Users/yuhan/opt/anaconda3/envs/class_env/lib/python3.11/site-packages (from fiona>=1.8.21->geopandas) (1.1.1)\n",
      "Requirement already satisfied: cligj>=0.5 in /Users/yuhan/opt/anaconda3/envs/class_env/lib/python3.11/site-packages (from fiona>=1.8.21->geopandas) (0.7.2)\n",
      "Requirement already satisfied: munch>=2.3.2 in /Users/yuhan/opt/anaconda3/envs/class_env/lib/python3.11/site-packages (from fiona>=1.8.21->geopandas) (3.0.0)\n",
      "Requirement already satisfied: setuptools in /Users/yuhan/opt/anaconda3/envs/class_env/lib/python3.11/site-packages (from fiona>=1.8.21->geopandas) (67.6.1)\n",
      "Requirement already satisfied: python-dateutil>=2.8.1 in /Users/yuhan/opt/anaconda3/envs/class_env/lib/python3.11/site-packages (from pandas->leafmap) (2.8.2)\n",
      "Requirement already satisfied: pytz>=2020.1 in /Users/yuhan/opt/anaconda3/envs/class_env/lib/python3.11/site-packages (from pandas->leafmap) (2023.3)\n",
      "Requirement already satisfied: traitlets>=4.3.0 in /Users/yuhan/opt/anaconda3/envs/class_env/lib/python3.11/site-packages (from bqplot->leafmap) (5.9.0)\n",
      "Requirement already satisfied: traittypes>=0.0.6 in /Users/yuhan/opt/anaconda3/envs/class_env/lib/python3.11/site-packages (from bqplot->leafmap) (0.2.1)\n",
      "Requirement already satisfied: ipykernel>=4.5.1 in /Users/yuhan/opt/anaconda3/envs/class_env/lib/python3.11/site-packages (from ipywidgets->leafmap) (6.23.1)\n",
      "Requirement already satisfied: ipython-genutils~=0.2.0 in /Users/yuhan/opt/anaconda3/envs/class_env/lib/python3.11/site-packages (from ipywidgets->leafmap) (0.2.0)\n",
      "Requirement already satisfied: widgetsnbextension~=3.6.4 in /Users/yuhan/opt/anaconda3/envs/class_env/lib/python3.11/site-packages (from ipywidgets->leafmap) (3.6.4)\n",
      "Requirement already satisfied: ipython>=4.0.0 in /Users/yuhan/opt/anaconda3/envs/class_env/lib/python3.11/site-packages (from ipywidgets->leafmap) (8.14.0)\n",
      "Requirement already satisfied: jupyterlab-widgets<3,>=1.0.0 in /Users/yuhan/opt/anaconda3/envs/class_env/lib/python3.11/site-packages (from ipywidgets->leafmap) (1.1.2)\n",
      "Requirement already satisfied: branca>=0.6.0 in /Users/yuhan/opt/anaconda3/envs/class_env/lib/python3.11/site-packages (from folium->leafmap) (0.6.0)\n",
      "Requirement already satisfied: jinja2>=2.9 in /Users/yuhan/opt/anaconda3/envs/class_env/lib/python3.11/site-packages (from folium->leafmap) (3.1.2)\n",
      "Requirement already satisfied: requests in /Users/yuhan/opt/anaconda3/envs/class_env/lib/python3.11/site-packages (from folium->leafmap) (2.31.0)\n",
      "Requirement already satisfied: filelock in /Users/yuhan/opt/anaconda3/envs/class_env/lib/python3.11/site-packages (from gdown->leafmap) (3.12.0)\n",
      "Requirement already satisfied: six in /Users/yuhan/opt/anaconda3/envs/class_env/lib/python3.11/site-packages (from gdown->leafmap) (1.16.0)\n",
      "Requirement already satisfied: tqdm in /Users/yuhan/opt/anaconda3/envs/class_env/lib/python3.11/site-packages (from gdown->leafmap) (4.65.0)\n",
      "Requirement already satisfied: beautifulsoup4 in /Users/yuhan/opt/anaconda3/envs/class_env/lib/python3.11/site-packages (from gdown->leafmap) (4.12.2)\n",
      "Requirement already satisfied: contourpy>=1.0.1 in /Users/yuhan/opt/anaconda3/envs/class_env/lib/python3.11/site-packages (from matplotlib->leafmap) (1.0.7)\n",
      "Requirement already satisfied: cycler>=0.10 in /Users/yuhan/opt/anaconda3/envs/class_env/lib/python3.11/site-packages (from matplotlib->leafmap) (0.11.0)\n",
      "Requirement already satisfied: fonttools>=4.22.0 in /Users/yuhan/opt/anaconda3/envs/class_env/lib/python3.11/site-packages (from matplotlib->leafmap) (4.39.4)\n",
      "Requirement already satisfied: kiwisolver>=1.0.1 in /Users/yuhan/opt/anaconda3/envs/class_env/lib/python3.11/site-packages (from matplotlib->leafmap) (1.4.4)\n",
      "Requirement already satisfied: pillow>=6.2.0 in /Users/yuhan/opt/anaconda3/envs/class_env/lib/python3.11/site-packages (from matplotlib->leafmap) (9.4.0)\n",
      "Requirement already satisfied: pyparsing>=2.3.1 in /Users/yuhan/opt/anaconda3/envs/class_env/lib/python3.11/site-packages (from matplotlib->leafmap) (3.0.9)\n",
      "Requirement already satisfied: tenacity>=6.2.0 in /Users/yuhan/opt/anaconda3/envs/class_env/lib/python3.11/site-packages (from plotly->leafmap) (8.2.2)\n",
      "Requirement already satisfied: pystac>=1.4.0 in /Users/yuhan/opt/anaconda3/envs/class_env/lib/python3.11/site-packages (from pystac-client->leafmap) (1.6.1)\n",
      "Requirement already satisfied: ipytree in /Users/yuhan/opt/anaconda3/envs/class_env/lib/python3.11/site-packages (from whiteboxgui->leafmap) (0.2.2)\n",
      "Requirement already satisfied: whitebox in /Users/yuhan/opt/anaconda3/envs/class_env/lib/python3.11/site-packages (from whiteboxgui->leafmap) (2.2.0)\n",
      "Requirement already satisfied: appnope in /Users/yuhan/opt/anaconda3/envs/class_env/lib/python3.11/site-packages (from ipykernel>=4.5.1->ipywidgets->leafmap) (0.1.3)\n",
      "Requirement already satisfied: comm>=0.1.1 in /Users/yuhan/opt/anaconda3/envs/class_env/lib/python3.11/site-packages (from ipykernel>=4.5.1->ipywidgets->leafmap) (0.1.3)\n",
      "Requirement already satisfied: debugpy>=1.6.5 in /Users/yuhan/opt/anaconda3/envs/class_env/lib/python3.11/site-packages (from ipykernel>=4.5.1->ipywidgets->leafmap) (1.6.7)\n",
      "Requirement already satisfied: jupyter-client>=6.1.12 in /Users/yuhan/opt/anaconda3/envs/class_env/lib/python3.11/site-packages (from ipykernel>=4.5.1->ipywidgets->leafmap) (8.2.0)\n",
      "Requirement already satisfied: jupyter-core!=5.0.*,>=4.12 in /Users/yuhan/opt/anaconda3/envs/class_env/lib/python3.11/site-packages (from ipykernel>=4.5.1->ipywidgets->leafmap) (5.3.0)\n",
      "Requirement already satisfied: matplotlib-inline>=0.1 in /Users/yuhan/opt/anaconda3/envs/class_env/lib/python3.11/site-packages (from ipykernel>=4.5.1->ipywidgets->leafmap) (0.1.6)\n",
      "Requirement already satisfied: nest-asyncio in /Users/yuhan/opt/anaconda3/envs/class_env/lib/python3.11/site-packages (from ipykernel>=4.5.1->ipywidgets->leafmap) (1.5.6)\n",
      "Requirement already satisfied: psutil in /Users/yuhan/opt/anaconda3/envs/class_env/lib/python3.11/site-packages (from ipykernel>=4.5.1->ipywidgets->leafmap) (5.9.5)\n",
      "Requirement already satisfied: pyzmq>=20 in /Users/yuhan/opt/anaconda3/envs/class_env/lib/python3.11/site-packages (from ipykernel>=4.5.1->ipywidgets->leafmap) (25.1.0)\n",
      "Requirement already satisfied: tornado>=6.1 in /Users/yuhan/opt/anaconda3/envs/class_env/lib/python3.11/site-packages (from ipykernel>=4.5.1->ipywidgets->leafmap) (6.3.2)\n",
      "Requirement already satisfied: backcall in /Users/yuhan/opt/anaconda3/envs/class_env/lib/python3.11/site-packages (from ipython>=4.0.0->ipywidgets->leafmap) (0.2.0)\n",
      "Requirement already satisfied: decorator in /Users/yuhan/opt/anaconda3/envs/class_env/lib/python3.11/site-packages (from ipython>=4.0.0->ipywidgets->leafmap) (5.1.1)\n",
      "Requirement already satisfied: jedi>=0.16 in /Users/yuhan/opt/anaconda3/envs/class_env/lib/python3.11/site-packages (from ipython>=4.0.0->ipywidgets->leafmap) (0.18.2)\n",
      "Requirement already satisfied: pickleshare in /Users/yuhan/opt/anaconda3/envs/class_env/lib/python3.11/site-packages (from ipython>=4.0.0->ipywidgets->leafmap) (0.7.5)\n",
      "Requirement already satisfied: prompt-toolkit!=3.0.37,<3.1.0,>=3.0.30 in /Users/yuhan/opt/anaconda3/envs/class_env/lib/python3.11/site-packages (from ipython>=4.0.0->ipywidgets->leafmap) (3.0.38)\n",
      "Requirement already satisfied: pygments>=2.4.0 in /Users/yuhan/opt/anaconda3/envs/class_env/lib/python3.11/site-packages (from ipython>=4.0.0->ipywidgets->leafmap) (2.15.1)\n",
      "Requirement already satisfied: stack-data in /Users/yuhan/opt/anaconda3/envs/class_env/lib/python3.11/site-packages (from ipython>=4.0.0->ipywidgets->leafmap) (0.6.2)\n",
      "Requirement already satisfied: pexpect>4.3 in /Users/yuhan/opt/anaconda3/envs/class_env/lib/python3.11/site-packages (from ipython>=4.0.0->ipywidgets->leafmap) (4.8.0)\n",
      "Requirement already satisfied: MarkupSafe>=2.0 in /Users/yuhan/opt/anaconda3/envs/class_env/lib/python3.11/site-packages (from jinja2>=2.9->folium->leafmap) (2.1.3)\n",
      "Requirement already satisfied: charset-normalizer<4,>=2 in /Users/yuhan/opt/anaconda3/envs/class_env/lib/python3.11/site-packages (from requests->folium->leafmap) (2.1.1)\n",
      "Requirement already satisfied: idna<4,>=2.5 in /Users/yuhan/opt/anaconda3/envs/class_env/lib/python3.11/site-packages (from requests->folium->leafmap) (3.4)\n",
      "Requirement already satisfied: urllib3<3,>=1.21.1 in /Users/yuhan/opt/anaconda3/envs/class_env/lib/python3.11/site-packages (from requests->folium->leafmap) (1.26.15)\n",
      "Requirement already satisfied: notebook>=4.4.1 in /Users/yuhan/opt/anaconda3/envs/class_env/lib/python3.11/site-packages (from widgetsnbextension~=3.6.4->ipywidgets->leafmap) (6.5.4)\n",
      "Requirement already satisfied: soupsieve>1.2 in /Users/yuhan/opt/anaconda3/envs/class_env/lib/python3.11/site-packages (from beautifulsoup4->gdown->leafmap) (2.3.2.post1)\n",
      "Requirement already satisfied: PySocks!=1.5.7,>=1.5.6 in /Users/yuhan/opt/anaconda3/envs/class_env/lib/python3.11/site-packages (from requests->folium->leafmap) (1.7.1)\n",
      "Requirement already satisfied: parso<0.9.0,>=0.8.0 in /Users/yuhan/opt/anaconda3/envs/class_env/lib/python3.11/site-packages (from jedi>=0.16->ipython>=4.0.0->ipywidgets->leafmap) (0.8.3)\n",
      "Requirement already satisfied: platformdirs>=2.5 in /Users/yuhan/opt/anaconda3/envs/class_env/lib/python3.11/site-packages (from jupyter-core!=5.0.*,>=4.12->ipykernel>=4.5.1->ipywidgets->leafmap) (3.5.1)\n",
      "Requirement already satisfied: argon2-cffi in /Users/yuhan/opt/anaconda3/envs/class_env/lib/python3.11/site-packages (from notebook>=4.4.1->widgetsnbextension~=3.6.4->ipywidgets->leafmap) (21.3.0)\n",
      "Requirement already satisfied: nbformat in /Users/yuhan/opt/anaconda3/envs/class_env/lib/python3.11/site-packages (from notebook>=4.4.1->widgetsnbextension~=3.6.4->ipywidgets->leafmap) (5.9.0)\n",
      "Requirement already satisfied: nbconvert>=5 in /Users/yuhan/opt/anaconda3/envs/class_env/lib/python3.11/site-packages (from notebook>=4.4.1->widgetsnbextension~=3.6.4->ipywidgets->leafmap) (7.4.0)\n",
      "Requirement already satisfied: Send2Trash>=1.8.0 in /Users/yuhan/opt/anaconda3/envs/class_env/lib/python3.11/site-packages (from notebook>=4.4.1->widgetsnbextension~=3.6.4->ipywidgets->leafmap) (1.8.0)\n",
      "Requirement already satisfied: terminado>=0.8.3 in /Users/yuhan/opt/anaconda3/envs/class_env/lib/python3.11/site-packages (from notebook>=4.4.1->widgetsnbextension~=3.6.4->ipywidgets->leafmap) (0.17.1)\n",
      "Requirement already satisfied: prometheus-client in /Users/yuhan/opt/anaconda3/envs/class_env/lib/python3.11/site-packages (from notebook>=4.4.1->widgetsnbextension~=3.6.4->ipywidgets->leafmap) (0.16.0)\n",
      "Requirement already satisfied: nbclassic>=0.4.7 in /Users/yuhan/opt/anaconda3/envs/class_env/lib/python3.11/site-packages (from notebook>=4.4.1->widgetsnbextension~=3.6.4->ipywidgets->leafmap) (0.5.2)\n",
      "Requirement already satisfied: ptyprocess>=0.5 in /Users/yuhan/opt/anaconda3/envs/class_env/lib/python3.11/site-packages (from pexpect>4.3->ipython>=4.0.0->ipywidgets->leafmap) (0.7.0)\n",
      "Requirement already satisfied: wcwidth in /Users/yuhan/opt/anaconda3/envs/class_env/lib/python3.11/site-packages (from prompt-toolkit!=3.0.37,<3.1.0,>=3.0.30->ipython>=4.0.0->ipywidgets->leafmap) (0.2.6)\n",
      "Requirement already satisfied: executing>=1.2.0 in /Users/yuhan/opt/anaconda3/envs/class_env/lib/python3.11/site-packages (from stack-data->ipython>=4.0.0->ipywidgets->leafmap) (1.2.0)\n",
      "Requirement already satisfied: asttokens>=2.1.0 in /Users/yuhan/opt/anaconda3/envs/class_env/lib/python3.11/site-packages (from stack-data->ipython>=4.0.0->ipywidgets->leafmap) (2.2.1)\n",
      "Requirement already satisfied: pure-eval in /Users/yuhan/opt/anaconda3/envs/class_env/lib/python3.11/site-packages (from stack-data->ipython>=4.0.0->ipywidgets->leafmap) (0.2.2)\n",
      "Requirement already satisfied: jupyter-server>=1.8 in /Users/yuhan/opt/anaconda3/envs/class_env/lib/python3.11/site-packages (from nbclassic>=0.4.7->notebook>=4.4.1->widgetsnbextension~=3.6.4->ipywidgets->leafmap) (2.3.0)\n",
      "Requirement already satisfied: notebook-shim>=0.1.0 in /Users/yuhan/opt/anaconda3/envs/class_env/lib/python3.11/site-packages (from nbclassic>=0.4.7->notebook>=4.4.1->widgetsnbextension~=3.6.4->ipywidgets->leafmap) (0.2.2)\n",
      "Requirement already satisfied: bleach in /Users/yuhan/opt/anaconda3/envs/class_env/lib/python3.11/site-packages (from nbconvert>=5->notebook>=4.4.1->widgetsnbextension~=3.6.4->ipywidgets->leafmap) (6.0.0)\n",
      "Requirement already satisfied: defusedxml in /Users/yuhan/opt/anaconda3/envs/class_env/lib/python3.11/site-packages (from nbconvert>=5->notebook>=4.4.1->widgetsnbextension~=3.6.4->ipywidgets->leafmap) (0.7.1)\n",
      "Requirement already satisfied: jupyterlab-pygments in /Users/yuhan/opt/anaconda3/envs/class_env/lib/python3.11/site-packages (from nbconvert>=5->notebook>=4.4.1->widgetsnbextension~=3.6.4->ipywidgets->leafmap) (0.2.2)\n",
      "Requirement already satisfied: mistune<3,>=2.0.3 in /Users/yuhan/opt/anaconda3/envs/class_env/lib/python3.11/site-packages (from nbconvert>=5->notebook>=4.4.1->widgetsnbextension~=3.6.4->ipywidgets->leafmap) (2.0.5)\n",
      "Requirement already satisfied: nbclient>=0.5.0 in /Users/yuhan/opt/anaconda3/envs/class_env/lib/python3.11/site-packages (from nbconvert>=5->notebook>=4.4.1->widgetsnbextension~=3.6.4->ipywidgets->leafmap) (0.8.0)\n",
      "Requirement already satisfied: pandocfilters>=1.4.1 in /Users/yuhan/opt/anaconda3/envs/class_env/lib/python3.11/site-packages (from nbconvert>=5->notebook>=4.4.1->widgetsnbextension~=3.6.4->ipywidgets->leafmap) (1.5.0)\n",
      "Requirement already satisfied: tinycss2 in /Users/yuhan/opt/anaconda3/envs/class_env/lib/python3.11/site-packages (from nbconvert>=5->notebook>=4.4.1->widgetsnbextension~=3.6.4->ipywidgets->leafmap) (1.2.1)\n",
      "Requirement already satisfied: fastjsonschema in /Users/yuhan/opt/anaconda3/envs/class_env/lib/python3.11/site-packages (from nbformat->notebook>=4.4.1->widgetsnbextension~=3.6.4->ipywidgets->leafmap) (2.17.1)\n",
      "Requirement already satisfied: jsonschema>=2.6 in /Users/yuhan/opt/anaconda3/envs/class_env/lib/python3.11/site-packages (from nbformat->notebook>=4.4.1->widgetsnbextension~=3.6.4->ipywidgets->leafmap) (4.17.3)\n",
      "Requirement already satisfied: argon2-cffi-bindings in /Users/yuhan/opt/anaconda3/envs/class_env/lib/python3.11/site-packages (from argon2-cffi->notebook>=4.4.1->widgetsnbextension~=3.6.4->ipywidgets->leafmap) (21.2.0)\n",
      "Requirement already satisfied: pyrsistent!=0.17.0,!=0.17.1,!=0.17.2,>=0.14.0 in /Users/yuhan/opt/anaconda3/envs/class_env/lib/python3.11/site-packages (from jsonschema>=2.6->nbformat->notebook>=4.4.1->widgetsnbextension~=3.6.4->ipywidgets->leafmap) (0.19.3)\n",
      "Requirement already satisfied: anyio>=3.1.0 in /Users/yuhan/opt/anaconda3/envs/class_env/lib/python3.11/site-packages (from jupyter-server>=1.8->nbclassic>=0.4.7->notebook>=4.4.1->widgetsnbextension~=3.6.4->ipywidgets->leafmap) (3.6.2)\n",
      "Requirement already satisfied: jupyter-events>=0.4.0 in /Users/yuhan/opt/anaconda3/envs/class_env/lib/python3.11/site-packages (from jupyter-server>=1.8->nbclassic>=0.4.7->notebook>=4.4.1->widgetsnbextension~=3.6.4->ipywidgets->leafmap) (0.6.3)\n",
      "Requirement already satisfied: jupyter-server-terminals in /Users/yuhan/opt/anaconda3/envs/class_env/lib/python3.11/site-packages (from jupyter-server>=1.8->nbclassic>=0.4.7->notebook>=4.4.1->widgetsnbextension~=3.6.4->ipywidgets->leafmap) (0.4.4)\n",
      "Requirement already satisfied: websocket-client in /Users/yuhan/opt/anaconda3/envs/class_env/lib/python3.11/site-packages (from jupyter-server>=1.8->nbclassic>=0.4.7->notebook>=4.4.1->widgetsnbextension~=3.6.4->ipywidgets->leafmap) (1.5.1)\n",
      "Requirement already satisfied: cffi>=1.0.1 in /Users/yuhan/opt/anaconda3/envs/class_env/lib/python3.11/site-packages (from argon2-cffi-bindings->argon2-cffi->notebook>=4.4.1->widgetsnbextension~=3.6.4->ipywidgets->leafmap) (1.15.1)\n",
      "Requirement already satisfied: webencodings in /Users/yuhan/opt/anaconda3/envs/class_env/lib/python3.11/site-packages (from bleach->nbconvert>=5->notebook>=4.4.1->widgetsnbextension~=3.6.4->ipywidgets->leafmap) (0.5.1)\n",
      "Requirement already satisfied: sniffio>=1.1 in /Users/yuhan/opt/anaconda3/envs/class_env/lib/python3.11/site-packages (from anyio>=3.1.0->jupyter-server>=1.8->nbclassic>=0.4.7->notebook>=4.4.1->widgetsnbextension~=3.6.4->ipywidgets->leafmap) (1.3.0)\n",
      "Requirement already satisfied: pycparser in /Users/yuhan/opt/anaconda3/envs/class_env/lib/python3.11/site-packages (from cffi>=1.0.1->argon2-cffi-bindings->argon2-cffi->notebook>=4.4.1->widgetsnbextension~=3.6.4->ipywidgets->leafmap) (2.21)\n",
      "Requirement already satisfied: python-json-logger>=2.0.4 in /Users/yuhan/opt/anaconda3/envs/class_env/lib/python3.11/site-packages (from jupyter-events>=0.4.0->jupyter-server>=1.8->nbclassic>=0.4.7->notebook>=4.4.1->widgetsnbextension~=3.6.4->ipywidgets->leafmap) (2.0.7)\n",
      "Requirement already satisfied: pyyaml>=5.3 in /Users/yuhan/opt/anaconda3/envs/class_env/lib/python3.11/site-packages (from jupyter-events>=0.4.0->jupyter-server>=1.8->nbclassic>=0.4.7->notebook>=4.4.1->widgetsnbextension~=3.6.4->ipywidgets->leafmap) (6.0)\n",
      "Requirement already satisfied: rfc3339-validator in /Users/yuhan/opt/anaconda3/envs/class_env/lib/python3.11/site-packages (from jupyter-events>=0.4.0->jupyter-server>=1.8->nbclassic>=0.4.7->notebook>=4.4.1->widgetsnbextension~=3.6.4->ipywidgets->leafmap) (0.1.4)\n",
      "Requirement already satisfied: rfc3986-validator>=0.1.1 in /Users/yuhan/opt/anaconda3/envs/class_env/lib/python3.11/site-packages (from jupyter-events>=0.4.0->jupyter-server>=1.8->nbclassic>=0.4.7->notebook>=4.4.1->widgetsnbextension~=3.6.4->ipywidgets->leafmap) (0.1.1)\n",
      "Requirement already satisfied: fqdn in /Users/yuhan/opt/anaconda3/envs/class_env/lib/python3.11/site-packages (from jsonschema>=2.6->nbformat->notebook>=4.4.1->widgetsnbextension~=3.6.4->ipywidgets->leafmap) (1.5.1)\n",
      "Requirement already satisfied: isoduration in /Users/yuhan/opt/anaconda3/envs/class_env/lib/python3.11/site-packages (from jsonschema>=2.6->nbformat->notebook>=4.4.1->widgetsnbextension~=3.6.4->ipywidgets->leafmap) (20.11.0)\n",
      "Requirement already satisfied: jsonpointer>1.13 in /Users/yuhan/opt/anaconda3/envs/class_env/lib/python3.11/site-packages (from jsonschema>=2.6->nbformat->notebook>=4.4.1->widgetsnbextension~=3.6.4->ipywidgets->leafmap) (2.3)\n",
      "Requirement already satisfied: uri-template in /Users/yuhan/opt/anaconda3/envs/class_env/lib/python3.11/site-packages (from jsonschema>=2.6->nbformat->notebook>=4.4.1->widgetsnbextension~=3.6.4->ipywidgets->leafmap) (1.2.0)\n",
      "Requirement already satisfied: webcolors>=1.11 in /Users/yuhan/opt/anaconda3/envs/class_env/lib/python3.11/site-packages (from jsonschema>=2.6->nbformat->notebook>=4.4.1->widgetsnbextension~=3.6.4->ipywidgets->leafmap) (1.12)\n",
      "Requirement already satisfied: arrow>=0.15.0 in /Users/yuhan/opt/anaconda3/envs/class_env/lib/python3.11/site-packages (from isoduration->jsonschema>=2.6->nbformat->notebook>=4.4.1->widgetsnbextension~=3.6.4->ipywidgets->leafmap) (1.2.3)\n",
      "Installing collected packages: duckdb, geopandas, leafmap\n",
      "  Attempting uninstall: geopandas\n",
      "    Found existing installation: geopandas 0.12.2\n",
      "    Uninstalling geopandas-0.12.2:\n",
      "      Successfully uninstalled geopandas-0.12.2\n",
      "  Attempting uninstall: leafmap\n",
      "    Found existing installation: leafmap 0.20.2\n",
      "    Uninstalling leafmap-0.20.2:\n",
      "      Successfully uninstalled leafmap-0.20.2\n",
      "Successfully installed duckdb-0.9.2 geopandas-0.14.1 leafmap-0.29.2\n",
      "Note: you may need to restart the kernel to use updated packages.\n"
     ]
    }
   ],
   "source": [
    "#pip install -U leafmap geopandas"
   ]
  },
  {
   "cell_type": "code",
   "execution_count": 5,
   "metadata": {},
   "outputs": [],
   "source": [
    "import geopandas as gpd\n",
    "import leafmap\n",
    "import time\n",
    "from pyogrio import read_dataframe\n"
   ]
  },
  {
   "cell_type": "code",
   "execution_count": 3,
   "metadata": {},
   "outputs": [],
   "source": [
    "country = \"Galveston\""
   ]
  },
  {
   "cell_type": "code",
   "execution_count": 4,
   "metadata": {},
   "outputs": [
    {
     "name": "stdout",
     "output_type": "stream",
     "text": [
      "Found 0 links for Galveston\n",
      "Merging GeoDataFrames ...\n"
     ]
    },
    {
     "ename": "ValueError",
     "evalue": "No objects to concatenate",
     "output_type": "error",
     "traceback": [
      "\u001b[0;31m---------------------------------------------------------------------------\u001b[0m",
      "\u001b[0;31mValueError\u001b[0m                                Traceback (most recent call last)",
      "\u001b[1;32mUntitled-1.ipynb Cell 4\u001b[0m line \u001b[0;36m3\n\u001b[1;32m      <a href='vscode-notebook-cell:Untitled-1.ipynb?jupyter-notebook#W4sdW50aXRsZWQ%3D?line=0'>1</a>\u001b[0m head \u001b[39m=\u001b[39m \u001b[39m2\u001b[39m\n\u001b[0;32m----> <a href='vscode-notebook-cell:Untitled-1.ipynb?jupyter-notebook#W4sdW50aXRsZWQ%3D?line=2'>3</a>\u001b[0m leafmap\u001b[39m.\u001b[39;49mdownload_ms_buildings(\n\u001b[1;32m      <a href='vscode-notebook-cell:Untitled-1.ipynb?jupyter-notebook#W4sdW50aXRsZWQ%3D?line=3'>4</a>\u001b[0m     country, \n\u001b[1;32m      <a href='vscode-notebook-cell:Untitled-1.ipynb?jupyter-notebook#W4sdW50aXRsZWQ%3D?line=4'>5</a>\u001b[0m     out_dir\u001b[39m=\u001b[39;49m\u001b[39m\"\u001b[39;49m\u001b[39mbuildings\u001b[39;49m\u001b[39m\"\u001b[39;49m, \n\u001b[1;32m      <a href='vscode-notebook-cell:Untitled-1.ipynb?jupyter-notebook#W4sdW50aXRsZWQ%3D?line=5'>6</a>\u001b[0m     merge_output\u001b[39m=\u001b[39;49m\u001b[39mf\u001b[39;49m\u001b[39m\"\u001b[39;49m\u001b[39m{\u001b[39;49;00mcountry\u001b[39m}\u001b[39;49;00m\u001b[39m_ms.shp\u001b[39;49m\u001b[39m\"\u001b[39;49m, \n\u001b[1;32m      <a href='vscode-notebook-cell:Untitled-1.ipynb?jupyter-notebook#W4sdW50aXRsZWQ%3D?line=6'>7</a>\u001b[0m     head\u001b[39m=\u001b[39;49mhead\n\u001b[1;32m      <a href='vscode-notebook-cell:Untitled-1.ipynb?jupyter-notebook#W4sdW50aXRsZWQ%3D?line=7'>8</a>\u001b[0m     )\n",
      "File \u001b[0;32m~/opt/anaconda3/envs/class_env/lib/python3.11/site-packages/leafmap/common.py:10638\u001b[0m, in \u001b[0;36mdownload_ms_buildings\u001b[0;34m(location, out_dir, merge_output, head, quiet, **kwargs)\u001b[0m\n\u001b[1;32m  10636\u001b[0m         \u001b[39mprint\u001b[39m(\u001b[39mf\u001b[39m\u001b[39m\"\u001b[39m\u001b[39mFile \u001b[39m\u001b[39m{\u001b[39;00mmerge_output\u001b[39m}\u001b[39;00m\u001b[39m already exists, skip merging...\u001b[39m\u001b[39m\"\u001b[39m)\n\u001b[1;32m  10637\u001b[0m         \u001b[39mreturn\u001b[39;00m filenames\n\u001b[0;32m> 10638\u001b[0m     merge_vector(filenames, merge_output, quiet\u001b[39m=\u001b[39;49mquiet)\n\u001b[1;32m  10640\u001b[0m \u001b[39mreturn\u001b[39;00m filenames\n",
      "File \u001b[0;32m~/opt/anaconda3/envs/class_env/lib/python3.11/site-packages/leafmap/common.py:10561\u001b[0m, in \u001b[0;36mmerge_vector\u001b[0;34m(files, output, crs, ext, recursive, quiet, return_gdf, **kwargs)\u001b[0m\n\u001b[1;32m  10559\u001b[0m \u001b[39mif\u001b[39;00m \u001b[39mnot\u001b[39;00m quiet:\n\u001b[1;32m  10560\u001b[0m     \u001b[39mprint\u001b[39m(\u001b[39m\"\u001b[39m\u001b[39mMerging GeoDataFrames ...\u001b[39m\u001b[39m\"\u001b[39m)\n\u001b[0;32m> 10561\u001b[0m gdf \u001b[39m=\u001b[39m gpd\u001b[39m.\u001b[39mGeoDataFrame(pd\u001b[39m.\u001b[39;49mconcat(gdfs, ignore_index\u001b[39m=\u001b[39;49m\u001b[39mTrue\u001b[39;49;00m), crs\u001b[39m=\u001b[39mcrs)\n\u001b[1;32m  10563\u001b[0m \u001b[39mif\u001b[39;00m \u001b[39mnot\u001b[39;00m quiet:\n\u001b[1;32m  10564\u001b[0m     \u001b[39mprint\u001b[39m(\u001b[39mf\u001b[39m\u001b[39m\"\u001b[39m\u001b[39mSaving merged file to \u001b[39m\u001b[39m{\u001b[39;00moutput\u001b[39m}\u001b[39;00m\u001b[39m ...\u001b[39m\u001b[39m\"\u001b[39m)\n",
      "File \u001b[0;32m~/opt/anaconda3/envs/class_env/lib/python3.11/site-packages/pandas/util/_decorators.py:331\u001b[0m, in \u001b[0;36mdeprecate_nonkeyword_arguments.<locals>.decorate.<locals>.wrapper\u001b[0;34m(*args, **kwargs)\u001b[0m\n\u001b[1;32m    325\u001b[0m \u001b[39mif\u001b[39;00m \u001b[39mlen\u001b[39m(args) \u001b[39m>\u001b[39m num_allow_args:\n\u001b[1;32m    326\u001b[0m     warnings\u001b[39m.\u001b[39mwarn(\n\u001b[1;32m    327\u001b[0m         msg\u001b[39m.\u001b[39mformat(arguments\u001b[39m=\u001b[39m_format_argument_list(allow_args)),\n\u001b[1;32m    328\u001b[0m         \u001b[39mFutureWarning\u001b[39;00m,\n\u001b[1;32m    329\u001b[0m         stacklevel\u001b[39m=\u001b[39mfind_stack_level(),\n\u001b[1;32m    330\u001b[0m     )\n\u001b[0;32m--> 331\u001b[0m \u001b[39mreturn\u001b[39;00m func(\u001b[39m*\u001b[39;49margs, \u001b[39m*\u001b[39;49m\u001b[39m*\u001b[39;49mkwargs)\n",
      "File \u001b[0;32m~/opt/anaconda3/envs/class_env/lib/python3.11/site-packages/pandas/core/reshape/concat.py:368\u001b[0m, in \u001b[0;36mconcat\u001b[0;34m(objs, axis, join, ignore_index, keys, levels, names, verify_integrity, sort, copy)\u001b[0m\n\u001b[1;32m    146\u001b[0m \u001b[39m@deprecate_nonkeyword_arguments\u001b[39m(version\u001b[39m=\u001b[39m\u001b[39mNone\u001b[39;00m, allowed_args\u001b[39m=\u001b[39m[\u001b[39m\"\u001b[39m\u001b[39mobjs\u001b[39m\u001b[39m\"\u001b[39m])\n\u001b[1;32m    147\u001b[0m \u001b[39mdef\u001b[39;00m \u001b[39mconcat\u001b[39m(\n\u001b[1;32m    148\u001b[0m     objs: Iterable[NDFrame] \u001b[39m|\u001b[39m Mapping[HashableT, NDFrame],\n\u001b[0;32m   (...)\u001b[0m\n\u001b[1;32m    157\u001b[0m     copy: \u001b[39mbool\u001b[39m \u001b[39m=\u001b[39m \u001b[39mTrue\u001b[39;00m,\n\u001b[1;32m    158\u001b[0m ) \u001b[39m-\u001b[39m\u001b[39m>\u001b[39m DataFrame \u001b[39m|\u001b[39m Series:\n\u001b[1;32m    159\u001b[0m \u001b[39m    \u001b[39m\u001b[39m\"\"\"\u001b[39;00m\n\u001b[1;32m    160\u001b[0m \u001b[39m    Concatenate pandas objects along a particular axis.\u001b[39;00m\n\u001b[1;32m    161\u001b[0m \n\u001b[0;32m   (...)\u001b[0m\n\u001b[1;32m    366\u001b[0m \u001b[39m    1   3   4\u001b[39;00m\n\u001b[1;32m    367\u001b[0m \u001b[39m    \"\"\"\u001b[39;00m\n\u001b[0;32m--> 368\u001b[0m     op \u001b[39m=\u001b[39m _Concatenator(\n\u001b[1;32m    369\u001b[0m         objs,\n\u001b[1;32m    370\u001b[0m         axis\u001b[39m=\u001b[39;49maxis,\n\u001b[1;32m    371\u001b[0m         ignore_index\u001b[39m=\u001b[39;49mignore_index,\n\u001b[1;32m    372\u001b[0m         join\u001b[39m=\u001b[39;49mjoin,\n\u001b[1;32m    373\u001b[0m         keys\u001b[39m=\u001b[39;49mkeys,\n\u001b[1;32m    374\u001b[0m         levels\u001b[39m=\u001b[39;49mlevels,\n\u001b[1;32m    375\u001b[0m         names\u001b[39m=\u001b[39;49mnames,\n\u001b[1;32m    376\u001b[0m         verify_integrity\u001b[39m=\u001b[39;49mverify_integrity,\n\u001b[1;32m    377\u001b[0m         copy\u001b[39m=\u001b[39;49mcopy,\n\u001b[1;32m    378\u001b[0m         sort\u001b[39m=\u001b[39;49msort,\n\u001b[1;32m    379\u001b[0m     )\n\u001b[1;32m    381\u001b[0m     \u001b[39mreturn\u001b[39;00m op\u001b[39m.\u001b[39mget_result()\n",
      "File \u001b[0;32m~/opt/anaconda3/envs/class_env/lib/python3.11/site-packages/pandas/core/reshape/concat.py:425\u001b[0m, in \u001b[0;36m_Concatenator.__init__\u001b[0;34m(self, objs, axis, join, keys, levels, names, ignore_index, verify_integrity, copy, sort)\u001b[0m\n\u001b[1;32m    422\u001b[0m     objs \u001b[39m=\u001b[39m \u001b[39mlist\u001b[39m(objs)\n\u001b[1;32m    424\u001b[0m \u001b[39mif\u001b[39;00m \u001b[39mlen\u001b[39m(objs) \u001b[39m==\u001b[39m \u001b[39m0\u001b[39m:\n\u001b[0;32m--> 425\u001b[0m     \u001b[39mraise\u001b[39;00m \u001b[39mValueError\u001b[39;00m(\u001b[39m\"\u001b[39m\u001b[39mNo objects to concatenate\u001b[39m\u001b[39m\"\u001b[39m)\n\u001b[1;32m    427\u001b[0m \u001b[39mif\u001b[39;00m keys \u001b[39mis\u001b[39;00m \u001b[39mNone\u001b[39;00m:\n\u001b[1;32m    428\u001b[0m     objs \u001b[39m=\u001b[39m \u001b[39mlist\u001b[39m(com\u001b[39m.\u001b[39mnot_none(\u001b[39m*\u001b[39mobjs))\n",
      "\u001b[0;31mValueError\u001b[0m: No objects to concatenate"
     ]
    }
   ],
   "source": [
    "head = 2\n",
    "\n",
    "leafmap.download_ms_buildings(\n",
    "    country, \n",
    "    out_dir=\"buildings\", \n",
    "    merge_output=f\"{country}_ms.shp\", \n",
    "    head=head\n",
    "    )"
   ]
  },
  {
   "cell_type": "code",
   "execution_count": null,
   "metadata": {},
   "outputs": [],
   "source": [
    "m = leafmap.Map()\n",
    "m.add_basemap(\"SATELLITE\")\n",
    "m.add_vector(f\"{country}_ms.shp\", layer_name=\"MS Buildings\")\n",
    "m"
   ]
  },
  {
   "cell_type": "code",
   "execution_count": 6,
   "metadata": {},
   "outputs": [],
   "source": [
    "fp = \"../TX/Texas.geojson\"\n",
    "#Geodata = gpd.read_file(fp)\n",
    "\n",
    "read_start  = time.process_time()\n",
    "Texasdata     = read_dataframe( fp )\n",
    "read_end    = time.process_time()\n"
   ]
  },
  {
   "cell_type": "code",
   "execution_count": 7,
   "metadata": {},
   "outputs": [
    {
     "data": {
      "text/html": [
       "<div>\n",
       "<style scoped>\n",
       "    .dataframe tbody tr th:only-of-type {\n",
       "        vertical-align: middle;\n",
       "    }\n",
       "\n",
       "    .dataframe tbody tr th {\n",
       "        vertical-align: top;\n",
       "    }\n",
       "\n",
       "    .dataframe thead th {\n",
       "        text-align: right;\n",
       "    }\n",
       "</style>\n",
       "<table border=\"1\" class=\"dataframe\">\n",
       "  <thead>\n",
       "    <tr style=\"text-align: right;\">\n",
       "      <th></th>\n",
       "      <th>release</th>\n",
       "      <th>capture_dates_range</th>\n",
       "      <th>geometry</th>\n",
       "    </tr>\n",
       "  </thead>\n",
       "  <tbody>\n",
       "    <tr>\n",
       "      <th>0</th>\n",
       "      <td>1</td>\n",
       "      <td></td>\n",
       "      <td>POLYGON ((-96.56063 32.83467, -96.56057 32.834...</td>\n",
       "    </tr>\n",
       "    <tr>\n",
       "      <th>1</th>\n",
       "      <td>2</td>\n",
       "      <td>4/23/2020-4/25/2020</td>\n",
       "      <td>POLYGON ((-96.56068 28.67777, -96.56079 28.677...</td>\n",
       "    </tr>\n",
       "    <tr>\n",
       "      <th>2</th>\n",
       "      <td>1</td>\n",
       "      <td></td>\n",
       "      <td>POLYGON ((-96.56073 33.25600, -96.56065 33.256...</td>\n",
       "    </tr>\n",
       "    <tr>\n",
       "      <th>3</th>\n",
       "      <td>1</td>\n",
       "      <td></td>\n",
       "      <td>POLYGON ((-96.56079 32.98237, -96.56079 32.982...</td>\n",
       "    </tr>\n",
       "    <tr>\n",
       "      <th>4</th>\n",
       "      <td>1</td>\n",
       "      <td></td>\n",
       "      <td>POLYGON ((-96.56085 33.48873, -96.56079 33.488...</td>\n",
       "    </tr>\n",
       "  </tbody>\n",
       "</table>\n",
       "</div>"
      ],
      "text/plain": [
       "   release  capture_dates_range  \\\n",
       "0        1                        \n",
       "1        2  4/23/2020-4/25/2020   \n",
       "2        1                        \n",
       "3        1                        \n",
       "4        1                        \n",
       "\n",
       "                                            geometry  \n",
       "0  POLYGON ((-96.56063 32.83467, -96.56057 32.834...  \n",
       "1  POLYGON ((-96.56068 28.67777, -96.56079 28.677...  \n",
       "2  POLYGON ((-96.56073 33.25600, -96.56065 33.256...  \n",
       "3  POLYGON ((-96.56079 32.98237, -96.56079 32.982...  \n",
       "4  POLYGON ((-96.56085 33.48873, -96.56079 33.488...  "
      ]
     },
     "execution_count": 7,
     "metadata": {},
     "output_type": "execute_result"
    }
   ],
   "source": [
    "Texasdata.head()\n"
   ]
  },
  {
   "cell_type": "code",
   "execution_count": 10,
   "metadata": {},
   "outputs": [
    {
     "name": "stdout",
     "output_type": "stream",
     "text": [
      "Elapsed time  0.007094999999992524\n",
      "-95.23305477996523 28.991734089688173 -94.36865942401168 29.598332997494254\n"
     ]
    }
   ],
   "source": [
    "fp2 = \"../TX/county/county.shp\"\n",
    "#Geodata = gpd.read_file(fp)\n",
    "\n",
    "read_start  = time.process_time()\n",
    "Galvestondata     = read_dataframe( fp2 )\n",
    "read_end    = time.process_time()\n",
    "Galvestondata     = Galvestondata.to_crs({'init':'epsg:4326'})\n",
    "\n",
    "print(\"Elapsed time \", read_end - read_start )\n",
    "xmin, ymin, xmax, ymax = Galvestondata.total_bounds\n",
    "print( xmin, ymin, xmax, ymax )"
   ]
  },
  {
   "cell_type": "code",
   "execution_count": 11,
   "metadata": {},
   "outputs": [],
   "source": [
    "Galveston_Texas = Texasdata.cx[xmin:xmax, ymin:ymax]"
   ]
  },
  {
   "cell_type": "code",
   "execution_count": 12,
   "metadata": {},
   "outputs": [
    {
     "data": {
      "text/plain": [
       "(204381, 3)"
      ]
     },
     "execution_count": 12,
     "metadata": {},
     "output_type": "execute_result"
    }
   ],
   "source": [
    "Galveston_Texas.shape"
   ]
  },
  {
   "cell_type": "code",
   "execution_count": 13,
   "metadata": {},
   "outputs": [],
   "source": [
    "galveston_pth0 = r\"../TX/buildings_tx/buildings_galv.shp\"\n",
    "Galveston_Texas.to_file( galveston_pth0 ,driver='ESRI Shapefile')\n"
   ]
  },
  {
   "cell_type": "code",
   "execution_count": null,
   "metadata": {},
   "outputs": [],
   "source": []
  },
  {
   "cell_type": "code",
   "execution_count": null,
   "metadata": {},
   "outputs": [],
   "source": []
  }
 ],
 "metadata": {
  "kernelspec": {
   "display_name": "class_env",
   "language": "python",
   "name": "python3"
  },
  "language_info": {
   "codemirror_mode": {
    "name": "ipython",
    "version": 3
   },
   "file_extension": ".py",
   "mimetype": "text/x-python",
   "name": "python",
   "nbconvert_exporter": "python",
   "pygments_lexer": "ipython3",
   "version": "3.11.3"
  }
 },
 "nbformat": 4,
 "nbformat_minor": 2
}
