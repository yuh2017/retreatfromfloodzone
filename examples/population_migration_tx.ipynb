{
 "cells": [
  {
   "cell_type": "code",
   "execution_count": 1,
   "metadata": {},
   "outputs": [],
   "source": [
    "import os \n",
    "import numpy  as np\n",
    "import pandas as pd\n",
    "import matplotlib.pyplot as plt\n",
    "import geopandas as gpd\n",
    "from pyogrio import read_dataframe\n",
    "import time\n",
    "import glob \n",
    "import plotly.graph_objects as go\n",
    "import pandas as pd\n",
    "import warnings\n",
    "from math import sin, cos, asin, sqrt\n",
    "import matplotlib.pylab as plt\n",
    "import seaborn as sns\n",
    "from scipy import stats\n",
    "from pandas.api.types import is_object_dtype\n"
   ]
  },
  {
   "cell_type": "markdown",
   "metadata": {},
   "source": [
    "# Read IRS county-county migration data at https://www.irs.gov/statistics/soi-tax-stats-migration-data"
   ]
  },
  {
   "cell_type": "code",
   "execution_count": 19,
   "metadata": {},
   "outputs": [
    {
     "data": {
      "text/plain": [
       "'\\nNumber of returns filed, which approximates the number of households that migrated \\n\\nNumber of personal exemptions claimed, which approximates the number of individuals \\n\\nTotal adjusted gross income, starting with Filing Year 1995 Aggregate migration flows at the State level, by the size of adjusted gross income (AGI) and age of the primary taxpayer, starting with Filing Year 2011.\\n'"
      ]
     },
     "execution_count": 19,
     "metadata": {},
     "output_type": "execute_result"
    }
   ],
   "source": [
    "'''\n",
    "Number of returns filed, which approximates the number of households that migrated \n",
    "Number of personal exemptions claimed, which approximates the number of individuals \n",
    "Total adjusted gross income, starting with Filing Year 1995 Aggregate migration flows at the State level, by the size of adjusted gross income (AGI) and age of the primary taxpayer, starting with Filing Year 2011.\n",
    "\n",
    "\n",
    "inflows—the number of new residents who moved to a State or county and where they migrated from, \n",
    "outflows—the number of residents leaving a State or county and where they went. \n",
    "\n",
    "'''"
   ]
  },
  {
   "cell_type": "code",
   "execution_count": 29,
   "metadata": {},
   "outputs": [
    {
     "name": "stdout",
     "output_type": "stream",
     "text": [
      "(28, 10)\n",
      "   index OStateCode  OCountyCode  DStateCode  DCountyCode DState  \\\n",
      "0     51         48          5.0        48.0        167.0     TX   \n",
      "1    290         48         27.0        48.0        167.0     TX   \n",
      "2    404         48         29.0        48.0        167.0     TX   \n",
      "3    735         48         39.0        48.0        167.0     TX   \n",
      "4    802         48         41.0        48.0        167.0     TX   \n",
      "\n",
      "        DCountyName NofReturn NofExemptions    AGI  \n",
      "0  Galveston County        22            36   1484  \n",
      "1  Galveston County        33            64   1575  \n",
      "2  Galveston County       118           223   8328  \n",
      "3  Galveston County       720          1442  49464  \n",
      "4  Galveston County        51            76   3519  \n"
     ]
    }
   ],
   "source": [
    "\n",
    "df_inflow  = pd.read_excel('/Users/yuhan/Desktop/Gradient_Boost_code/inputs/migration_data/Texas_county_flows/1819tx.xls', \n",
    "                   sheet_name = 'County Inflow',\n",
    "                   skiprows= 6)\n",
    "df_inflow.columns = ['OStateCode', 'OCountyCode', 'DStateCode', 'DCountyCode', \n",
    "                     'DState', 'DCountyName', 'NofReturn', 'NofExemptions', 'AGI' ]\n",
    "df_inflow_tx = df_inflow.loc[ ( df_inflow['DStateCode']  == 48 )&\n",
    "                              ( df_inflow['DCountyCode'] == 167 )  ].reset_index()\n",
    "\n",
    "print( df_inflow_tx.shape )\n",
    "print( df_inflow_tx.head() )\n",
    "\n",
    "df_inflow_tx.groupby()\n"
   ]
  },
  {
   "cell_type": "code",
   "execution_count": 30,
   "metadata": {},
   "outputs": [
    {
     "name": "stdout",
     "output_type": "stream",
     "text": [
      "(48, 10)\n",
      "   index OStateCode  OCountyCode  DStateCode  DCountyCode DState  \\\n",
      "0   2510         48        167.0        96.0          0.0     TX   \n",
      "1   2511         48        167.0        97.0          0.0     TX   \n",
      "2   2512         48        167.0        97.0          1.0     TX   \n",
      "3   2513         48        167.0        97.0          3.0     TX   \n",
      "4   2514         48        167.0        98.0          0.0     TX   \n",
      "\n",
      "                                        DCountyName NofReturn NofExemptions  \\\n",
      "0   Galveston County Total Migration-US and Foreign      8758         16380   \n",
      "1               Galveston County Total Migration-US      8733         16340   \n",
      "2       Galveston County Total Migration-Same State      6628         12365   \n",
      "3  Galveston County Total Migration-Different State      2105          3975   \n",
      "4          Galveston County Total Migration-Foreign        25            40   \n",
      "\n",
      "      AGI  \n",
      "0  584139  \n",
      "1  583879  \n",
      "2  429859  \n",
      "3  154020  \n",
      "4     259  \n"
     ]
    }
   ],
   "source": [
    "\n",
    "df_outflow = pd.read_excel('/Users/yuhan/Desktop/Gradient_Boost_code/inputs/migration_data/Texas_county_flows/1819tx.xls', \n",
    "                   sheet_name = 'County Outflow',\n",
    "                   skiprows= 6)\n",
    "df_outflow.columns = ['OStateCode', 'OCountyCode', \n",
    "                     'DStateCode', 'DCountyCode', \n",
    "                     'DState', 'DCountyName', \n",
    "                     'NofReturn', 'NofExemptions', 'AGI' ]\n",
    "df_outflow_tx = df_outflow.loc[ ( df_outflow['OStateCode']  == 48 )&\n",
    "               ( df_outflow['OCountyCode']  == 167 )  ].reset_index()\n",
    "\n",
    "print( df_outflow_tx.shape )\n",
    "print( df_outflow_tx.head() )\n"
   ]
  },
  {
   "cell_type": "code",
   "execution_count": null,
   "metadata": {},
   "outputs": [],
   "source": [
    "pth_root = \"/Users/yuhan/Desktop/Gradient_Boost_code/data/migration_data/Texas\"\n",
    "path = os.getcwd() \n",
    "csv_files = glob.glob(os.path.join(pth_root, \"*.xls\")) \n",
    "\n",
    "df_daily = []\n",
    "# loop over the list of csv files \n",
    "for f_pth in csv_files: \n",
    "    # read the csv file \n",
    "    travel_daily_df  = pd.read_excel( f_pth , \n",
    "                   sheet_name = 'County Inflow', skiprows= 6)\n",
    "    \n",
    "    \n",
    "    travel_daily_dfi = travel_daily_df.loc[ ( travel_daily_df['lng_o'] < -94.15  ) & \n",
    "                                            ( travel_daily_df['lng_o'] > -96.475 ) &\n",
    "                                            ( travel_daily_df['lat_o'] < 30.658  ) & \n",
    "                                            ( travel_daily_df['lat_o'] > 28.814  ) &\n",
    "                                            ( travel_daily_df['lng_d'] < -94.15  ) & \n",
    "                                            ( travel_daily_df['lng_d'] > -96.475 ) &\n",
    "                                            ( travel_daily_df['lat_d'] < 30.658  ) & \n",
    "                                            ( travel_daily_df['lat_d'] > 28.814  )  ].reset_index()\n",
    "    df_daily.append( travel_daily_dfi )\n",
    "    # print the location and filename \n",
    "    #print( 'Location:', f) \n",
    "    #print( 'File Name:', f.split(\"\\\\\")[-1]) \n",
    "    # print the content \n",
    "    #print( 'Content:' ) \n",
    "    #display( travel_daily_dfi.shape[0] ) \n",
    "    #print() \n",
    "travel_daily = pd.concat( df_daily )\n",
    "print( \"travel_daily shape \", travel_daily.shape ) "
   ]
  },
  {
   "cell_type": "markdown",
   "metadata": {},
   "source": [
    "# Read IRS county-county migration data at Galveston"
   ]
  },
  {
   "cell_type": "code",
   "execution_count": null,
   "metadata": {},
   "outputs": [],
   "source": [
    "#Outflow: Destination (y2) has 4 columns\n",
    "#Inflow: Origin (y1) has 4 columns"
   ]
  },
  {
   "cell_type": "code",
   "execution_count": null,
   "metadata": {},
   "outputs": [],
   "source": [
    "\n",
    "print( df_inflow_tx.shape )\n",
    "print( df_inflow_tx.head() )\n",
    "\n",
    "df_inflow_tx.groupby()"
   ]
  },
  {
   "cell_type": "code",
   "execution_count": 2,
   "metadata": {},
   "outputs": [
    {
     "name": "stdout",
     "output_type": "stream",
     "text": [
      "   y1_statefips  y1_countyfips  y2_statefips  y2_countyfips y2_state  \\\n",
      "0             1              0            96              0       AL   \n",
      "1             1              0            97              0       AL   \n",
      "2             1              0            97              1       AL   \n",
      "3             1              0            97              3       AL   \n",
      "4             1              0            98              0       AL   \n",
      "\n",
      "                     y2_countyname      n1      n2      agi  \n",
      "0   Total Migration-US and Foreign  115723  242428  4490820  \n",
      "1               Total Migration-US  114692  240130  4441354  \n",
      "2       Total Migration-Same State   63752  135124  2381712  \n",
      "3  Total Migration-Different State   50940  105006  2059642  \n",
      "4          Total Migration-Foreign    1031    2298    49465  \n",
      "(130297, 9)\n",
      "(104, 10)\n"
     ]
    }
   ],
   "source": [
    "df_outflow  = pd.read_csv( '/Users/yuhan/Desktop/Gradient_Boost_code/data/migration_data/Galveston_US_flows/outflow/countyoutflow1112.csv', encoding = \"ISO-8859-1\" )\n",
    "print( df_outflow.head() )\n",
    "df_outflow.columns  = ['y1_statefips', 'y1_countyfips', 'y2_statefips', 'y2_countyfips', \n",
    "                        'y2_state', 'y2_countyname', 'n1', 'n2', 'n1' ]\n",
    "\n",
    "print( df_outflow.shape )\n",
    "df_outflow_galv          = df_outflow.loc[ ( df_outflow['y1_statefips']  == 48 )&\n",
    "                              ( df_outflow['y1_countyfips'] == 167 )  ].reset_index()\n",
    "print( df_outflow_galv.shape )"
   ]
  },
  {
   "cell_type": "code",
   "execution_count": 3,
   "metadata": {},
   "outputs": [
    {
     "name": "stdout",
     "output_type": "stream",
     "text": [
      "int64\n",
      "[48]\n",
      "(8635, 9)\n",
      "(1, 10)\n"
     ]
    }
   ],
   "source": [
    "df_inflow       = pd.read_csv( '/Users/yuhan/Desktop/Gradient_Boost_code/data/migration_data/Galveston_US_flows/outflow/countyoutflow1011.csv', \n",
    "                                   encoding = \"ISO-8859-1\" )\n",
    "#print( df_inflow.head() )\n",
    "df_inflow.columns   = ['y2_statefips', 'y2_countyfips', 'y1_statefips', 'y1_countyfips', \n",
    "                        'y1_state', 'y1_countyname', 'n1', 'n2', 'agi' ]\n",
    "\n",
    "\n",
    "#print( df_inflow.loc[ ( df_inflow['']  == \"48\" ) ].head() )\n",
    "\n",
    "print( df_inflow['y2_statefips'].dtype )\n",
    "\n",
    "print( df_inflow['y2_statefips'].unique() )\n",
    "#= df_inflow['y2_statefips'].apply(pd.to_numeric,1)\n",
    "\n",
    "print( df_inflow.shape )\n",
    "df_inflow_galv       = df_inflow.loc[ ( df_inflow['y2_statefips']  == 48 )&\n",
    "                                            ( df_inflow['y2_countyfips'] == 167 ) &\n",
    "                                            ( df_inflow['y1_countyname'].isin( \n",
    "                                                ['Galveston County Total Migration-US and Foreign',\n",
    "                                                  'Galveston Count Tot Mig-US & For'] ) )  ].reset_index()\n",
    "print( df_inflow_galv.shape )"
   ]
  },
  {
   "cell_type": "code",
   "execution_count": 4,
   "metadata": {},
   "outputs": [],
   "source": [
    "root_pth_list = [ \n",
    "    \"/Users/yuhan/Desktop/Gradient_Boost_code/data/migration_data/Galveston_US_flows/inflow\",\n",
    "    \"/Users/yuhan/Desktop/Gradient_Boost_code/data/migration_data/Galveston_US_flows/outflow\" ]\n",
    "\n",
    "\n",
    "root_pth_names = [\"inflow\", \"outflow\"]"
   ]
  },
  {
   "cell_type": "code",
   "execution_count": 5,
   "metadata": {},
   "outputs": [
    {
     "name": "stdout",
     "output_type": "stream",
     "text": [
      "Galveston population flow with inflow shape (17, 11) \n",
      "Galveston population flow with outflow shape (17, 11) \n"
     ]
    }
   ],
   "source": [
    "from pandas.api.types import is_object_dtype\n",
    "\n",
    "for ri in range(len(root_pth_list)):\n",
    "    root_pthi = root_pth_list[ri]\n",
    "    rootnamei = root_pth_names[ri]\n",
    "    csv_files = glob.glob(os.path.join(root_pthi, \"*.csv\")) \n",
    "    df_popflow = []\n",
    "    # loop over the list of csv files \n",
    "    for f in csv_files: \n",
    "        # read the csv file \n",
    "        year_fi = int( f[-6:-4] )\n",
    "        population_flow_df  = pd.read_csv(f, encoding = \"ISO-8859-1\") \n",
    "        if rootnamei == \"inflow\":\n",
    "            population_flow_df.columns   = ['y2_statefips', 'y2_countyfips', 'y1_statefips', \n",
    "                                            'y1_countyfips', 'y1_state', 'y1_countyname', \n",
    "                                            'n1', 'n2', 'agi' ]\n",
    "            if is_object_dtype( population_flow_df.n1 ) :\n",
    "                population_flow_df['n1']     = population_flow_df['n1'].replace({',':''},regex=True).replace('d','', regex=True).apply(pd.to_numeric,1)\n",
    "            if is_object_dtype( population_flow_df.n2 ) :\n",
    "                population_flow_df['n2']     = population_flow_df['n2'].replace({',':''},regex=True).replace('d','', regex=True).apply(pd.to_numeric,1)\n",
    "            if is_object_dtype( population_flow_df.agi ) :\n",
    "                population_flow_df['agi']    = population_flow_df['agi'].replace({',':''},regex=True).replace('d','', regex=True).apply(pd.to_numeric,1)\n",
    "\n",
    "            galveston_flow_df            = population_flow_df.loc[ \n",
    "                                            ( population_flow_df['y2_statefips']  == 48 )&\n",
    "                                            ( population_flow_df['y2_countyfips'] == 167 ) &\n",
    "                                            ( population_flow_df['y1_countyname'].isin( ['Galveston County Total Migration-US and Foreign',\n",
    "                                                                                         'Galveston Count Tot Mig-US & For'\n",
    "                                                                                          ] )  ) ].reset_index()\n",
    "            #print( galveston_flow_df.shape )\n",
    "            #print( galveston_flow_df.dtypes )\n",
    "            \n",
    "            galveston_flow_df[\"Year\"]   = year_fi + 2000\n",
    "            #df_popflow.append( galveston_flow_df )\n",
    "        else :\n",
    "            population_flow_df.columns   = ['y1_statefips', 'y1_countyfips',  'y2_statefips', \n",
    "                                           'y2_countyfips', 'y2_state', 'y2_countyname', \n",
    "                                           'n1', 'n2', 'agi' ]\n",
    "            if is_object_dtype( population_flow_df.n1 ) :\n",
    "                population_flow_df['n1']     = population_flow_df['n1'].replace({',':''},regex=True).replace('d','', regex=True).apply(pd.to_numeric,1)\n",
    "            if  is_object_dtype( population_flow_df.n2 ) :\n",
    "                population_flow_df['n2']     = population_flow_df['n2'].replace({',':''},regex=True).replace('d','', regex=True).apply(pd.to_numeric,1)\n",
    "            if  is_object_dtype( population_flow_df.agi ) :\n",
    "                population_flow_df['agi']    = population_flow_df['agi'].replace({',':''},regex=True).replace('d','', regex=True).apply(pd.to_numeric,1)\n",
    "            galveston_flow_df            = population_flow_df.loc[ \n",
    "                                            ( population_flow_df['y1_statefips']  == 48 )&\n",
    "                                            ( population_flow_df['y1_countyfips'] == 167 ) &\n",
    "                                            ( population_flow_df['y2_countyname'].isin( ['Galveston County Total Migration-US and Foreign',\n",
    "                                                                                         'Galveston Count Tot Mig-US & For' \n",
    "                                                                                         ] )  ) ].reset_index()\n",
    "            #print( galveston_flow_df.dtypes )\n",
    "            galveston_flow_df[\"Year\"]   = year_fi + 2000\n",
    "            \n",
    "        # print the location and filename \n",
    "        #print( 'Location:', f) \n",
    "        #print( 'File Name:', f.split(\"\\\\\")[-1]) \n",
    "        # print the content \n",
    "        #print( 'Content:' ) \n",
    "        #display( travel_daily_dfi.shape[0] ) \n",
    "        #print() \n",
    "        \n",
    "        galveston_flow_df['n1']     = galveston_flow_df['n1'].replace({',':''},regex=True).apply(pd.to_numeric,1)\n",
    "        galveston_flow_df['n2']     = galveston_flow_df['n2'].replace({',':''},regex=True).apply(pd.to_numeric,1)\n",
    "        galveston_flow_df['agi']     = galveston_flow_df['agi'].replace({',':''},regex=True).apply(pd.to_numeric,1)\n",
    "        df_popflow.append( galveston_flow_df )\n",
    "\n",
    "    galveston_popflow_rooti = pd.concat( df_popflow )\n",
    "    print( \"Galveston population flow with {} shape {} \".format( rootnamei, galveston_popflow_rooti.shape ) ) \n",
    "    \n",
    "    out_pthi = r\"/Users/yuhan/Desktop/Gradient_Boost_code/data/migration_data/Galveston_US_flows/{}.csv\".format(rootnamei)\n",
    "    galveston_popflow_rooti.to_csv( out_pthi , index=False ) \n"
   ]
  },
  {
   "cell_type": "code",
   "execution_count": 6,
   "metadata": {},
   "outputs": [
    {
     "name": "stdout",
     "output_type": "stream",
     "text": [
      "Index(['index', 'y2_statefips', 'y2_countyfips', 'y1_statefips',\n",
      "       'y1_countyfips', 'y1_state', 'y1_countyname', 'n1', 'n2', 'agi'],\n",
      "      dtype='object')\n",
      "Index(['index', 'y1_statefips', 'y1_countyfips', 'y2_statefips',\n",
      "       'y2_countyfips', 'y2_state', 'y2_countyname', 'n1', 'n2', 'agi'],\n",
      "      dtype='object')\n"
     ]
    }
   ],
   "source": [
    "galveston_popflow_inflow  = pd.read_csv( r\"/Users/yuhan/Desktop/Gradient_Boost_code/data/migration_data/Galveston_US_flows/inflow.csv\", encoding = \"ISO-8859-1\" )\n",
    "galveston_popflow_outflow = pd.read_csv( r\"/Users/yuhan/Desktop/Gradient_Boost_code/data/migration_data/Galveston_US_flows/outflow.csv\", encoding = \"ISO-8859-1\" )\n",
    "\n",
    "galveston_popflow_inflow  = galveston_popflow_inflow.set_index('Year')\n",
    "galveston_popflow_outflow = galveston_popflow_outflow.set_index('Year')\n",
    "\n",
    "print(galveston_popflow_inflow.columns)\n",
    "print(galveston_popflow_outflow.columns)"
   ]
  },
  {
   "cell_type": "code",
   "execution_count": 7,
   "metadata": {},
   "outputs": [
    {
     "name": "stdout",
     "output_type": "stream",
     "text": [
      "    Netflow  Year\n",
      "0    9342.0  2018\n",
      "1    7331.0  2007\n",
      "2    6955.0  2005\n",
      "3    8023.0  2009\n",
      "4    7395.0  2006\n",
      "5    7709.0  2008\n",
      "6   11101.0  2017\n",
      "7    6723.0  2015\n",
      "8    7278.0  2010\n",
      "9    8863.0  2013\n",
      "10   7496.0  2011\n",
      "11   8758.0  2019\n",
      "12   8513.0  2014\n",
      "13   9441.0  2020\n",
      "14   9995.0  2021\n",
      "15   8610.0  2012\n",
      "16   8314.0  2016\n"
     ]
    }
   ],
   "source": [
    "popflow = pd.concat([galveston_popflow_inflow.n1, galveston_popflow_outflow.n1], axis=1).fillna(0).min(axis=1)\n",
    "\n",
    "popflow2 = pd.DataFrame()\n",
    "popflow2[\"Netflow\"] = popflow.values.tolist()\n",
    "popflow2[\"Year\"] = popflow.index.values.tolist()\n",
    "print( popflow2 )\n",
    "#popflow2 = popflow2.loc[popflow2[\"Year\"] != 2009]\n",
    "#plt.scatter(popflow2.Year, popflow2.Netflow)\n",
    "#plt.show()\n"
   ]
  },
  {
   "cell_type": "code",
   "execution_count": 271,
   "metadata": {},
   "outputs": [
    {
     "name": "stdout",
     "output_type": "stream",
     "text": [
      "169.47549019607843 -332810.22058823524 0.731289072558355 0.0008508439403709872 40.81310562628737\n"
     ]
    },
    {
     "data": {
      "text/plain": [
       "<matplotlib.legend.Legend at 0x2a26d3d90>"
      ]
     },
     "execution_count": 271,
     "metadata": {},
     "output_type": "execute_result"
    },
    {
     "data": {
      "image/png": "[encoded data removed]",
      "text/plain": [
       "<Figure size 640x480 with 1 Axes>"
      ]
     },
     "metadata": {},
     "output_type": "display_data"
    }
   ],
   "source": [
    "slope2, intercept2, r_value2, p_value2, std_err2 = stats.linregress(popflow2.Year,\n",
    "                                                               popflow2.Netflow)\n",
    "\n",
    "print(slope2, intercept2, r_value2, p_value2, std_err2)\n",
    "ax2 = sns.regplot( x='Year', y='Netflow', data = popflow2, \n",
    "                   scatter = True, ci = 95, fit_reg = True,\n",
    "                   scatter_kws={\"color\": \"black\", 's': 1}, order=1,\n",
    "                   line_kws={'color': 'darkgreen', \n",
    "                             'label': 'y={0:.1f}x+{1:.1f}'.format(slope2, intercept2)} ) \n",
    "ax2.legend()"
   ]
  },
  {
   "cell_type": "code",
   "execution_count": 8,
   "metadata": {},
   "outputs": [
    {
     "name": "stdout",
     "output_type": "stream",
     "text": [
      "[2018 2007 2005 2009 2006 2008 2017 2015 2010 2013 2011 2019 2014 2020\n",
      " 2021 2012 2016]\n",
      "[ 9342.  7331.  6955.  8023.  7395.  7709. 11101.  6723.  7278.  8863.\n",
      "  7496.  8758.  8513.  9441.  9995.  8610.  8314.]\n",
      "Index(['index', 'y2_statefips', 'y2_countyfips', 'y1_statefips',\n",
      "       'y1_countyfips', 'y1_state', 'y1_countyname', 'n1', 'n2', 'agi'],\n",
      "      dtype='object')\n"
     ]
    }
   ],
   "source": [
    "print( popflow.index.values )\n",
    "print( popflow.values )\n",
    "print(galveston_popflow_inflow.columns)"
   ]
  },
  {
   "cell_type": "code",
   "execution_count": 273,
   "metadata": {},
   "outputs": [],
   "source": [
    "root_pth_list = [ \n",
    "    \"/Users/yuhan/Desktop/Gradient_Boost_code/data/migration_data/Galveston_US_flows/inflow\",\n",
    "    \"/Users/yuhan/Desktop/Gradient_Boost_code/data/migration_data/Galveston_US_flows/outflow\" ]\n",
    "\n",
    "\n",
    "root_pth_names = [\"HGinflow\", \"HGoutflow\"]"
   ]
  },
  {
   "cell_type": "code",
   "execution_count": 302,
   "metadata": {},
   "outputs": [
    {
     "name": "stdout",
     "output_type": "stream",
     "text": [
      "Galveston population flow with HGinflow shape (17, 7) \n",
      "Galveston population flow with HGoutflow shape (17, 7) \n"
     ]
    }
   ],
   "source": [
    "from pandas.api.types import is_object_dtype\n",
    "\n",
    "for ri in range(len(root_pth_list)):\n",
    "    root_pthi = root_pth_list[ri]\n",
    "    rootnamei = root_pth_names[ri]\n",
    "    csv_files = glob.glob(os.path.join(root_pthi, \"*.csv\")) \n",
    "    df_popflow_HG = []\n",
    "    # loop over the list of csv files \n",
    "    for f in csv_files: \n",
    "        # read the csv file \n",
    "        year_fi = int( f[-6:-4] )\n",
    "        population_flow_HG  = pd.read_csv(f, encoding = \"ISO-8859-1\") \n",
    "        if rootnamei == \"HGinflow\":\n",
    "            population_flow_HG.columns   = ['y2_statefips', 'y2_countyfips', 'y1_statefips', \n",
    "                                            'y1_countyfips', 'y1_state', 'y1_countyname', \n",
    "                                            'n1', 'n2', 'agi' ]\n",
    "            if is_object_dtype( population_flow_HG.n1 ) :\n",
    "                population_flow_HG['n1']     = population_flow_HG['n1'].replace({',':''},regex=True).replace('d','', regex=True).apply(pd.to_numeric,1)\n",
    "            if is_object_dtype( population_flow_HG.n2 ) :\n",
    "                population_flow_HG['n2']     = population_flow_HG['n2'].replace({',':''},regex=True).replace('d','', regex=True).apply(pd.to_numeric,1)\n",
    "            if is_object_dtype( population_flow_HG.agi ) :\n",
    "                population_flow_HG['agi']    = population_flow_HG['agi'].replace({',':''},regex=True).replace('d','', regex=True).apply(pd.to_numeric,1)\n",
    "\n",
    "            population_flow_HG = population_flow_HG.loc[ \n",
    "                                 ( population_flow_HG['y2_statefips']  == 48 )&\n",
    "                                 ( population_flow_HG['y2_countyfips'] == 167 ) &\n",
    "                                 ( population_flow_HG['y1_statefips'] == 48 ) & \n",
    "                                 ( population_flow_HG['y1_countyfips'].isin([201, 39, 157, 339, 291, 71]) )   \n",
    "                                 ].reset_index()\n",
    "            population_flow_HG['n1']     = population_flow_HG['n1'].replace({',':''},regex=True).apply(pd.to_numeric,1)\n",
    "            population_flow_HG['n2']     = population_flow_HG['n2'].replace({',':''},regex=True).apply(pd.to_numeric,1)\n",
    "            population_flow_HG['agi']    = population_flow_HG['agi'].replace({',':''},regex=True).apply(pd.to_numeric,1)\n",
    "            flow_HG = population_flow_HG.groupby(['y2_statefips',\n",
    "                                                  'y2_countyfips', \n",
    "                                                  'y1_statefips']).agg({'n1': 'sum', \n",
    "                                                                        'n2': 'sum',\n",
    "                                                                        'agi': 'sum'}).reset_index()\n",
    "            #df_popflow.append( galveston_flow_df )\n",
    "        else :\n",
    "            population_flow_HG.columns   = ['y1_statefips', 'y1_countyfips',  'y2_statefips', \n",
    "                                           'y2_countyfips', 'y2_state', 'y2_countyname', \n",
    "                                           'n1', 'n2', 'agi' ]\n",
    "            if is_object_dtype( population_flow_HG.n1 ) :\n",
    "                population_flow_HG['n1']     = population_flow_HG['n1'].replace({',':''},regex=True).replace('d','', regex=True).apply(pd.to_numeric,1)\n",
    "            if  is_object_dtype( population_flow_HG.n2 ) :\n",
    "                population_flow_HG['n2']     = population_flow_HG['n2'].replace({',':''},regex=True).replace('d','', regex=True).apply(pd.to_numeric,1)\n",
    "            if  is_object_dtype( population_flow_HG.agi ) :\n",
    "                population_flow_HG['agi']    = population_flow_HG['agi'].replace({',':''},regex=True).replace('d','', regex=True).apply(pd.to_numeric,1)\n",
    "            population_flow_HG = population_flow_HG.loc[ \n",
    "                                ( population_flow_HG['y1_statefips']  == 48 )&\n",
    "                                ( population_flow_HG['y1_countyfips'] == 167 ) &\n",
    "                                ( population_flow_HG['y2_statefips'] == 48 ) & \n",
    "                                ( population_flow_HG['y2_countyfips'].isin([201, 39, 157, 339, 291, 71]) )    ].reset_index()\n",
    "            population_flow_HG['n1']     = population_flow_HG['n1'].replace({',':''},regex=True).apply(pd.to_numeric,1)\n",
    "            population_flow_HG['n2']     = population_flow_HG['n2'].replace({',':''},regex=True).apply(pd.to_numeric,1)\n",
    "            population_flow_HG['agi']    = population_flow_HG['agi'].replace({',':''},regex=True).apply(pd.to_numeric,1)\n",
    "            flow_HG = population_flow_HG.groupby(['y1_statefips',\n",
    "                                                  'y1_countyfips', \n",
    "                                                  'y2_statefips']).agg({'n1': 'sum',\n",
    "                                                                        'n2': 'sum',\n",
    "                                                                        'agi': 'sum'}).reset_index()\n",
    "\n",
    "            #print( galveston_flow_df.dtypes )\n",
    "        flow_HG[\"Year\"]   = year_fi + 2000\n",
    "        df_popflow_HG.append( flow_HG )\n",
    "\n",
    "    HouGalv_popflow_rooti = pd.concat( df_popflow_HG )\n",
    "    print( \"Galveston population flow with {} shape {} \".format( rootnamei, HouGalv_popflow_rooti.shape ) ) \n",
    "    \n",
    "    out_pthi = r\"/Users/yuhan/Desktop/Gradient_Boost_code/data/migration_data/Galveston_US_flows/{}.csv\".format(rootnamei)\n",
    "    HouGalv_popflow_rooti.to_csv( out_pthi , index=False ) \n",
    "\n",
    "            "
   ]
  },
  {
   "cell_type": "code",
   "execution_count": 303,
   "metadata": {},
   "outputs": [
    {
     "name": "stdout",
     "output_type": "stream",
     "text": [
      "Index(['y2_statefips', 'y2_countyfips', 'y1_statefips', 'n1', 'n2', 'agi'], dtype='object')\n",
      "Index(['y1_statefips', 'y1_countyfips', 'y2_statefips', 'n1', 'n2', 'agi'], dtype='object')\n"
     ]
    }
   ],
   "source": [
    "HG_popflow_inflow  = pd.read_csv( r\"/Users/yuhan/Desktop/Gradient_Boost_code/data/migration_data/Galveston_US_flows/HGinflow.csv\", encoding = \"ISO-8859-1\" )\n",
    "HG_popflow_outflow = pd.read_csv( r\"/Users/yuhan/Desktop/Gradient_Boost_code/data/migration_data/Galveston_US_flows/HGoutflow.csv\", encoding = \"ISO-8859-1\" )\n",
    "\n",
    "HG_popflow_inflow  = HG_popflow_inflow.set_index('Year')\n",
    "HG_popflow_outflow = HG_popflow_outflow.set_index('Year')\n",
    "\n",
    "print(HG_popflow_inflow.columns)\n",
    "print(HG_popflow_outflow.columns)"
   ]
  },
  {
   "cell_type": "code",
   "execution_count": 304,
   "metadata": {},
   "outputs": [
    {
     "name": "stdout",
     "output_type": "stream",
     "text": [
      "    Netflow  Year\n",
      "0    4110.0  2008\n",
      "1    4818.0  2019\n",
      "2    3816.0  2015\n",
      "3    3983.0  2010\n",
      "4    5841.0  2017\n",
      "5    4015.0  2011\n",
      "6    4690.0  2013\n",
      "7    5319.0  2021\n",
      "8    4730.0  2012\n",
      "9    4580.0  2016\n",
      "10   4648.0  2014\n",
      "11   5133.0  2020\n",
      "12   5080.0  2018\n",
      "13   5368.0  2009\n",
      "14   3665.0  2005\n",
      "15   3786.0  2007\n",
      "16   3831.0  2006\n"
     ]
    }
   ],
   "source": [
    "popflow3 = pd.concat([HG_popflow_inflow.n1, HG_popflow_outflow.n1], axis=1).fillna(0).min(axis=1)\n",
    "\n",
    "popflow3 = HG_popflow_outflow.n1\n",
    "\n",
    "popflow4 = pd.DataFrame()\n",
    "popflow4[\"Netflow\"] = popflow3.values.tolist()\n",
    "popflow4[\"Year\"] = popflow3.index.values.tolist()\n",
    "print( popflow4 )\n",
    "#popflow4 = popflow4.loc[popflow4[\"Year\"] != 2009]\n",
    "#plt.scatter(popflow2.Year, popflow2.Netflow)\n",
    "#plt.show()"
   ]
  },
  {
   "cell_type": "code",
   "execution_count": 305,
   "metadata": {},
   "outputs": [
    {
     "name": "stdout",
     "output_type": "stream",
     "text": [
      "89.68382352941177 -175979.83088235295 0.6893358446719684 0.002204476029674593 24.335551680533655\n"
     ]
    },
    {
     "data": {
      "text/plain": [
       "<matplotlib.legend.Legend at 0x2a0f189d0>"
      ]
     },
     "execution_count": 305,
     "metadata": {},
     "output_type": "execute_result"
    },
    {
     "data": {
      "image/png": "[encoded data removed]",
      "text/plain": [
       "<Figure size 640x480 with 1 Axes>"
      ]
     },
     "metadata": {},
     "output_type": "display_data"
    }
   ],
   "source": [
    "slope, intercept, r_value, p_value, std_err = stats.linregress(popflow4.Year,\n",
    "                                                               popflow4.Netflow)\n",
    "\n",
    "print(slope, intercept, r_value, p_value, std_err)\n",
    "ax2 = sns.regplot( x='Year', y='Netflow', data = popflow2, \n",
    "                   scatter = True, ci = 95, fit_reg = True,\n",
    "                   scatter_kws={\"color\": \"black\", 's': 1}, order=1,\n",
    "                   line_kws={'color': 'darkgreen', \n",
    "                             'label': 'y={0:.1f}x+{1:.1f}'.format(slope, intercept)} ) \n",
    "ax2.legend()"
   ]
  },
  {
   "cell_type": "code",
   "execution_count": 300,
   "metadata": {},
   "outputs": [],
   "source": [
    "popflow2['Category'] = \"All\"\n",
    "popflow4['Category'] = \"Texas\"\n",
    "popflow2.head()\n",
    "popflow_toal = pd.concat( [popflow2, popflow4] )\n"
   ]
  },
  {
   "cell_type": "code",
   "execution_count": 306,
   "metadata": {},
   "outputs": [
    {
     "data": {
      "image/png": "[encoded data removed]",
      "text/plain": [
       "<Figure size 588.375x500 with 1 Axes>"
      ]
     },
     "metadata": {},
     "output_type": "display_data"
    }
   ],
   "source": [
    "ax = sns.lmplot(x = \"Year\", y = \"Netflow\",\n",
    "           hue = \"Category\", data = popflow_toal, \n",
    "           markers = [\"o\", \"x\"], palette = \"Set1\", scatter_kws = {\"s\": 4})\n",
    "ax.set(xlabel='Year', ylabel='Net household migration')\n",
    "plt.show()"
   ]
  },
  {
   "cell_type": "code",
   "execution_count": 307,
   "metadata": {},
   "outputs": [
    {
     "data": {
      "text/html": [
       "<div>\n",
       "<style scoped>\n",
       "    .dataframe tbody tr th:only-of-type {\n",
       "        vertical-align: middle;\n",
       "    }\n",
       "\n",
       "    .dataframe tbody tr th {\n",
       "        vertical-align: top;\n",
       "    }\n",
       "\n",
       "    .dataframe thead th {\n",
       "        text-align: right;\n",
       "    }\n",
       "</style>\n",
       "<table border=\"1\" class=\"dataframe\">\n",
       "  <thead>\n",
       "    <tr style=\"text-align: right;\">\n",
       "      <th></th>\n",
       "      <th>y1_statefips</th>\n",
       "      <th>y1_countyfips</th>\n",
       "      <th>y2_statefips</th>\n",
       "      <th>n1</th>\n",
       "      <th>n2</th>\n",
       "      <th>agi</th>\n",
       "    </tr>\n",
       "  </thead>\n",
       "  <tbody>\n",
       "    <tr>\n",
       "      <th>0</th>\n",
       "      <td>48</td>\n",
       "      <td>167</td>\n",
       "      <td>48</td>\n",
       "      <td>3831.0</td>\n",
       "      <td>7190.0</td>\n",
       "      <td>177186.0</td>\n",
       "    </tr>\n",
       "  </tbody>\n",
       "</table>\n",
       "</div>"
      ],
      "text/plain": [
       "   y1_statefips  y1_countyfips  y2_statefips      n1      n2       agi\n",
       "0            48            167            48  3831.0  7190.0  177186.0"
      ]
     },
     "execution_count": 307,
     "metadata": {},
     "output_type": "execute_result"
    }
   ],
   "source": [
    "flow_HG = population_flow_HG.groupby(['y1_statefips', 'y1_countyfips', \n",
    "                                      'y2_statefips']).agg({'n1': 'sum', 'n2': 'sum', \n",
    "                                                            'agi': 'sum'}).reset_index()\n",
    "flow_HG\n"
   ]
  },
  {
   "cell_type": "markdown",
   "metadata": {},
   "source": [
    "# Aggregate The Flow Data to a DataFrame"
   ]
  },
  {
   "cell_type": "code",
   "execution_count": 18,
   "metadata": {},
   "outputs": [
    {
     "name": "stdout",
     "output_type": "stream",
     "text": [
      "Index(['index', 'y2_statefips', 'y2_countyfips', 'y1_statefips',\n",
      "       'y1_countyfips', 'y1_state', 'y1_countyname', 'n1', 'n2', 'agi',\n",
      "       'Year'],\n",
      "      dtype='object')\n",
      "Index(['index', 'y1_statefips', 'y1_countyfips', 'y2_statefips',\n",
      "       'y2_countyfips', 'y2_state', 'y2_countyname', 'n1', 'n2', 'agi',\n",
      "       'Year'],\n",
      "      dtype='object')\n"
     ]
    }
   ],
   "source": [
    "galveston_popflow_inflow  = pd.read_csv( r\"/Users/yuhan/Desktop/Gradient_Boost_code/data/migration_data/Galveston_US_flows/inflow.csv\", encoding = \"ISO-8859-1\" )\n",
    "galveston_popflow_outflow = pd.read_csv( r\"/Users/yuhan/Desktop/Gradient_Boost_code/data/migration_data/Galveston_US_flows/outflow.csv\", encoding = \"ISO-8859-1\" )\n",
    "\n",
    "print(galveston_popflow_inflow.columns)\n",
    "print(galveston_popflow_outflow.columns)"
   ]
  },
  {
   "cell_type": "code",
   "execution_count": 19,
   "metadata": {},
   "outputs": [
    {
     "name": "stdout",
     "output_type": "stream",
     "text": [
      "(17, 11)\n",
      "(17, 11)\n"
     ]
    }
   ],
   "source": [
    "galveston_popflow_inflow.columns  = [ 'index', 'y2_statefips', 'y2_countyfips', \n",
    "                                      'y1_statefips', 'y1_countyfips', 'y1_state', \n",
    "                                      'y1_countyname', 'in_HH', 'in_Pop', 'in_agi',\n",
    "                                      'Year']\n",
    "galveston_popflow_outflow.columns = [ 'index', 'y1_statefips', 'y1_countyfips', \n",
    "                                      'y2_statefips', 'y2_countyfips', 'y2_state', \n",
    "                                      'y2_countyname', 'out_HH', 'out_Pop', 'out_agi', \n",
    "                                      'Year']\n",
    "\n",
    "print(galveston_popflow_inflow.shape)\n",
    "print(galveston_popflow_inflow.shape)\n",
    "\n",
    "result = pd.merge(galveston_popflow_inflow[['in_HH', 'in_Pop', 'in_agi', 'Year']], \n",
    "                  galveston_popflow_outflow[['out_HH', 'out_Pop', 'out_agi', 'Year']], \n",
    "                  how=\"outer\", on= \"Year\" ).reset_index()\n",
    "\n",
    "\n",
    "out_pthi2 = r\"/Users/yuhan/Desktop/Gradient_Boost_code/data/migration_data/Galveston_US_flows/year_total_flows.csv\"\n",
    "result.to_csv( out_pthi2, index = False)"
   ]
  },
  {
   "cell_type": "code",
   "execution_count": 20,
   "metadata": {},
   "outputs": [
    {
     "name": "stdout",
     "output_type": "stream",
     "text": [
      "Index(['y2_statefips', 'y2_countyfips', 'y1_statefips', 'n1', 'n2', 'agi',\n",
      "       'Year'],\n",
      "      dtype='object')\n",
      "Index(['y1_statefips', 'y1_countyfips', 'y2_statefips', 'n1', 'n2', 'agi',\n",
      "       'Year'],\n",
      "      dtype='object')\n"
     ]
    }
   ],
   "source": [
    "HG_popflow_inflow  = pd.read_csv( r\"/Users/yuhan/Desktop/Gradient_Boost_code/data/migration_data/Galveston_US_flows/HGinflow.csv\", encoding = \"ISO-8859-1\" )\n",
    "HG_popflow_outflow = pd.read_csv( r\"/Users/yuhan/Desktop/Gradient_Boost_code/data/migration_data/Galveston_US_flows/HGoutflow.csv\", encoding = \"ISO-8859-1\" )\n",
    "\n",
    "#HG_popflow_inflow  = HG_popflow_inflow.set_index('Year')\n",
    "#HG_popflow_outflow = HG_popflow_outflow.set_index('Year')\n",
    "print(HG_popflow_inflow.columns)\n",
    "print(HG_popflow_outflow.columns)\n",
    "\n"
   ]
  },
  {
   "cell_type": "code",
   "execution_count": 21,
   "metadata": {},
   "outputs": [
    {
     "name": "stdout",
     "output_type": "stream",
     "text": [
      "(17, 7)\n",
      "(17, 7)\n"
     ]
    }
   ],
   "source": [
    "HG_popflow_inflow.columns  = ['y2_statefips', 'y2_countyfips', 'y1_statefips', \n",
    "                              'in_HH', 'in_Pop', 'in_agi', 'Year']\n",
    "HG_popflow_outflow.columns = ['y1_statefips', 'y1_countyfips', 'y2_statefips', \n",
    "                              'out_HH', 'out_Pop', 'out_agi', 'Year']\n",
    "\n",
    "print(HG_popflow_inflow.shape)\n",
    "print(HG_popflow_outflow.shape)"
   ]
  },
  {
   "cell_type": "code",
   "execution_count": 23,
   "metadata": {},
   "outputs": [],
   "source": [
    "result2 = pd.merge(HG_popflow_inflow[['in_HH', 'in_Pop', 'in_agi', 'Year']], \n",
    "                  HG_popflow_outflow[['out_HH', 'out_Pop', 'out_agi', 'Year']], \n",
    "                  how=\"outer\", on= \"Year\" ).reset_index()\n"
   ]
  },
  {
   "cell_type": "code",
   "execution_count": 24,
   "metadata": {},
   "outputs": [
    {
     "name": "stdout",
     "output_type": "stream",
     "text": [
      "   index   in_HH   in_Pop    in_agi  Year  out_HH  out_Pop   out_agi\n",
      "0      0  5779.0  11399.0  407784.0  2018  5080.0   9534.0  315256.0\n",
      "1      1  4159.0   8265.0  221166.0  2007  3786.0   7094.0  176987.0\n",
      "2      2  4390.0   8929.0  215066.0  2005  3665.0   6877.0  152860.0\n",
      "3      3  4096.0   7912.0  225592.0  2009  5368.0   9988.0  237756.0\n",
      "4      4  4293.0   8420.0  217839.0  2006  3831.0   7190.0  177186.0\n"
     ]
    }
   ],
   "source": [
    "print( result2.head() )"
   ]
  },
  {
   "cell_type": "code",
   "execution_count": 25,
   "metadata": {},
   "outputs": [],
   "source": [
    "out_pthi2 = r\"/Users/yuhan/Desktop/Gradient_Boost_code/data/migration_data/Galveston_US_flows/year_HG_flows.csv\"\n",
    "result2.to_csv( out_pthi2, index = False)\n"
   ]
  },
  {
   "cell_type": "code",
   "execution_count": 26,
   "metadata": {},
   "outputs": [],
   "source": [
    "result['Category'] = \"All\"\n",
    "result2['Category'] = \"Texas\"\n",
    "popflow_toal = pd.concat( [result, result2] )\n",
    "\n",
    "\n",
    "\n",
    "popflow_toal2 = pd.merge( result, \n",
    "                             result2, \n",
    "                  how=\"left\", on= \"Year\" ).reset_index()\n",
    "\n",
    "popflow_toal2 = popflow_toal2.fillna(0)\n"
   ]
  },
  {
   "cell_type": "code",
   "execution_count": 28,
   "metadata": {},
   "outputs": [
    {
     "name": "stdout",
     "output_type": "stream",
     "text": [
      "   index    in_HH   in_Pop    in_agi  Year  out_HH  out_Pop   out_agi Category\n",
      "0      0  10160.0  19826.0  722019.0  2018  9342.0  17850.0  601414.0      All\n",
      "1      1   8116.0  16125.0  419695.0  2007  7331.0  14100.0  351788.0      All\n",
      "2      2   8000.0  15906.0  375485.0  2005  6955.0  13329.0  299830.0      All\n",
      "3      3   8023.0  15801.0  420156.0  2009  9853.0  18603.0  453037.0      All\n",
      "4      4   8296.0  16461.0  395445.0  2006  7395.0  14179.0  345294.0      All\n"
     ]
    }
   ],
   "source": [
    "print( popflow_toal.head() )"
   ]
  },
  {
   "cell_type": "code",
   "execution_count": 29,
   "metadata": {},
   "outputs": [],
   "source": [
    "out_pthi3 = r\"/Users/yuhan/Desktop/Gradient_Boost_code/data/migration_data/Galveston_US_flows/year_flows.csv\"\n",
    "popflow_toal.to_csv( out_pthi3, index = False)\n"
   ]
  },
  {
   "cell_type": "markdown",
   "metadata": {},
   "source": [
    "# FEMA damage data processing"
   ]
  },
  {
   "cell_type": "code",
   "execution_count": 38,
   "metadata": {},
   "outputs": [],
   "source": [
    "#FimaNfipClaims  = pd.read_csv( r\"/Users/yuhan/Library/CloudStorage/OneDrive-UniversityofTwente/paper——revision/FLCounty_JEPR/FEMA_dataset/FimaNfipClaims.csv\", encoding = \"ISO-8859-1\" )\n",
    "#print(FimaNfipClaims.shape)\n",
    "#FimaNfipClaims2 = FimaNfipClaims.loc[ FimaNfipClaims['state'] == 'TX'].reset_index()\n",
    "#print(FimaNfipClaims2.shape)"
   ]
  },
  {
   "cell_type": "code",
   "execution_count": 39,
   "metadata": {},
   "outputs": [],
   "source": [
    "#out_pthx = r\"/Users/yuhan/Desktop/Gradient_Boost_code/data/FEMANfipClaims_TX.csv\"\n",
    "#FimaNfipClaims2.to_csv( out_pthx, index = False)"
   ]
  },
  {
   "cell_type": "code",
   "execution_count": 181,
   "metadata": {},
   "outputs": [
    {
     "name": "stderr",
     "output_type": "stream",
     "text": [
      "/var/folders/t6/8gnslc_j433220_1kgd9hv_c0000gn/T/ipykernel_18390/1867163543.py:2: DtypeWarning: Columns (32) have mixed types. Specify dtype option on import or set low_memory=False.\n",
      "  FimaNfipClaims2 = pd.read_csv( claim_pth )\n"
     ]
    },
    {
     "data": {
      "text/html": [
       "<div>\n",
       "<style scoped>\n",
       "    .dataframe tbody tr th:only-of-type {\n",
       "        vertical-align: middle;\n",
       "    }\n",
       "\n",
       "    .dataframe tbody tr th {\n",
       "        vertical-align: top;\n",
       "    }\n",
       "\n",
       "    .dataframe thead th {\n",
       "        text-align: right;\n",
       "    }\n",
       "</style>\n",
       "<table border=\"1\" class=\"dataframe\">\n",
       "  <thead>\n",
       "    <tr style=\"text-align: right;\">\n",
       "      <th></th>\n",
       "      <th>index</th>\n",
       "      <th>agricultureStructureIndicator</th>\n",
       "      <th>asOfDate</th>\n",
       "      <th>baseFloodElevation</th>\n",
       "      <th>basementEnclosureCrawlspace</th>\n",
       "      <th>reportedCity</th>\n",
       "      <th>condominiumIndicator</th>\n",
       "      <th>policyCount</th>\n",
       "      <th>countyCode</th>\n",
       "      <th>communityRatingSystemDiscount</th>\n",
       "      <th>...</th>\n",
       "      <th>postFIRMConstructionIndicator</th>\n",
       "      <th>rateMethod</th>\n",
       "      <th>smallBusinessIndicatorBuilding</th>\n",
       "      <th>state</th>\n",
       "      <th>totalBuildingInsuranceCoverage</th>\n",
       "      <th>totalContentsInsuranceCoverage</th>\n",
       "      <th>yearOfLoss</th>\n",
       "      <th>reportedZipcode</th>\n",
       "      <th>primaryResidence</th>\n",
       "      <th>id</th>\n",
       "    </tr>\n",
       "  </thead>\n",
       "  <tbody>\n",
       "    <tr>\n",
       "      <th>0</th>\n",
       "      <td>11</td>\n",
       "      <td>0.0</td>\n",
       "      <td>2021-07-25T01:39:04.381Z</td>\n",
       "      <td>NaN</td>\n",
       "      <td>NaN</td>\n",
       "      <td>Temporarily Unavailable</td>\n",
       "      <td>N</td>\n",
       "      <td>1.0</td>\n",
       "      <td>48201.0</td>\n",
       "      <td>5.0</td>\n",
       "      <td>...</td>\n",
       "      <td>1.0</td>\n",
       "      <td>7</td>\n",
       "      <td>0.0</td>\n",
       "      <td>TX</td>\n",
       "      <td>250000.0</td>\n",
       "      <td>100000.0</td>\n",
       "      <td>2017</td>\n",
       "      <td>77077.0</td>\n",
       "      <td>1.0</td>\n",
       "      <td>613f47f2f2b55a0837dff2bc</td>\n",
       "    </tr>\n",
       "    <tr>\n",
       "      <th>1</th>\n",
       "      <td>22</td>\n",
       "      <td>0.0</td>\n",
       "      <td>2021-07-25T01:39:04.381Z</td>\n",
       "      <td>NaN</td>\n",
       "      <td>NaN</td>\n",
       "      <td>Temporarily Unavailable</td>\n",
       "      <td>N</td>\n",
       "      <td>1.0</td>\n",
       "      <td>48293.0</td>\n",
       "      <td>NaN</td>\n",
       "      <td>...</td>\n",
       "      <td>0.0</td>\n",
       "      <td>1</td>\n",
       "      <td>0.0</td>\n",
       "      <td>TX</td>\n",
       "      <td>70300.0</td>\n",
       "      <td>0.0</td>\n",
       "      <td>2010</td>\n",
       "      <td>76642.0</td>\n",
       "      <td>1.0</td>\n",
       "      <td>613f47f2f2b55a0837dff2c7</td>\n",
       "    </tr>\n",
       "    <tr>\n",
       "      <th>2</th>\n",
       "      <td>24</td>\n",
       "      <td>0.0</td>\n",
       "      <td>2021-07-25T01:39:04.381Z</td>\n",
       "      <td>52.0</td>\n",
       "      <td>NaN</td>\n",
       "      <td>Temporarily Unavailable</td>\n",
       "      <td>N</td>\n",
       "      <td>1.0</td>\n",
       "      <td>48201.0</td>\n",
       "      <td>7.0</td>\n",
       "      <td>...</td>\n",
       "      <td>1.0</td>\n",
       "      <td>1</td>\n",
       "      <td>0.0</td>\n",
       "      <td>TX</td>\n",
       "      <td>250000.0</td>\n",
       "      <td>52500.0</td>\n",
       "      <td>2017</td>\n",
       "      <td>77401.0</td>\n",
       "      <td>1.0</td>\n",
       "      <td>613f47f2f2b55a0837dff2c9</td>\n",
       "    </tr>\n",
       "    <tr>\n",
       "      <th>3</th>\n",
       "      <td>27</td>\n",
       "      <td>0.0</td>\n",
       "      <td>2021-07-25T01:39:04.381Z</td>\n",
       "      <td>49.0</td>\n",
       "      <td>NaN</td>\n",
       "      <td>Temporarily Unavailable</td>\n",
       "      <td>N</td>\n",
       "      <td>1.0</td>\n",
       "      <td>48201.0</td>\n",
       "      <td>5.0</td>\n",
       "      <td>...</td>\n",
       "      <td>0.0</td>\n",
       "      <td>1</td>\n",
       "      <td>0.0</td>\n",
       "      <td>TX</td>\n",
       "      <td>209000.0</td>\n",
       "      <td>100000.0</td>\n",
       "      <td>2017</td>\n",
       "      <td>77025.0</td>\n",
       "      <td>0.0</td>\n",
       "      <td>613f47f2f2b55a0837dff2cc</td>\n",
       "    </tr>\n",
       "    <tr>\n",
       "      <th>4</th>\n",
       "      <td>28</td>\n",
       "      <td>0.0</td>\n",
       "      <td>2021-07-25T01:39:04.381Z</td>\n",
       "      <td>NaN</td>\n",
       "      <td>NaN</td>\n",
       "      <td>Temporarily Unavailable</td>\n",
       "      <td>N</td>\n",
       "      <td>1.0</td>\n",
       "      <td>48201.0</td>\n",
       "      <td>7.0</td>\n",
       "      <td>...</td>\n",
       "      <td>1.0</td>\n",
       "      <td>7</td>\n",
       "      <td>0.0</td>\n",
       "      <td>TX</td>\n",
       "      <td>150000.0</td>\n",
       "      <td>60000.0</td>\n",
       "      <td>2006</td>\n",
       "      <td>77015.0</td>\n",
       "      <td>1.0</td>\n",
       "      <td>613f47f2f2b55a0837dff2cd</td>\n",
       "    </tr>\n",
       "  </tbody>\n",
       "</table>\n",
       "<p>5 rows × 41 columns</p>\n",
       "</div>"
      ],
      "text/plain": [
       "   index  agricultureStructureIndicator                  asOfDate  \\\n",
       "0     11                            0.0  2021-07-25T01:39:04.381Z   \n",
       "1     22                            0.0  2021-07-25T01:39:04.381Z   \n",
       "2     24                            0.0  2021-07-25T01:39:04.381Z   \n",
       "3     27                            0.0  2021-07-25T01:39:04.381Z   \n",
       "4     28                            0.0  2021-07-25T01:39:04.381Z   \n",
       "\n",
       "   baseFloodElevation  basementEnclosureCrawlspace             reportedCity  \\\n",
       "0                 NaN                          NaN  Temporarily Unavailable   \n",
       "1                 NaN                          NaN  Temporarily Unavailable   \n",
       "2                52.0                          NaN  Temporarily Unavailable   \n",
       "3                49.0                          NaN  Temporarily Unavailable   \n",
       "4                 NaN                          NaN  Temporarily Unavailable   \n",
       "\n",
       "  condominiumIndicator  policyCount  countyCode  \\\n",
       "0                    N          1.0     48201.0   \n",
       "1                    N          1.0     48293.0   \n",
       "2                    N          1.0     48201.0   \n",
       "3                    N          1.0     48201.0   \n",
       "4                    N          1.0     48201.0   \n",
       "\n",
       "   communityRatingSystemDiscount  ... postFIRMConstructionIndicator  \\\n",
       "0                            5.0  ...                           1.0   \n",
       "1                            NaN  ...                           0.0   \n",
       "2                            7.0  ...                           1.0   \n",
       "3                            5.0  ...                           0.0   \n",
       "4                            7.0  ...                           1.0   \n",
       "\n",
       "   rateMethod  smallBusinessIndicatorBuilding  state  \\\n",
       "0           7                             0.0     TX   \n",
       "1           1                             0.0     TX   \n",
       "2           1                             0.0     TX   \n",
       "3           1                             0.0     TX   \n",
       "4           7                             0.0     TX   \n",
       "\n",
       "   totalBuildingInsuranceCoverage totalContentsInsuranceCoverage  yearOfLoss  \\\n",
       "0                        250000.0                       100000.0        2017   \n",
       "1                         70300.0                            0.0        2010   \n",
       "2                        250000.0                        52500.0        2017   \n",
       "3                        209000.0                       100000.0        2017   \n",
       "4                        150000.0                        60000.0        2006   \n",
       "\n",
       "   reportedZipcode  primaryResidence                        id  \n",
       "0          77077.0               1.0  613f47f2f2b55a0837dff2bc  \n",
       "1          76642.0               1.0  613f47f2f2b55a0837dff2c7  \n",
       "2          77401.0               1.0  613f47f2f2b55a0837dff2c9  \n",
       "3          77025.0               0.0  613f47f2f2b55a0837dff2cc  \n",
       "4          77015.0               1.0  613f47f2f2b55a0837dff2cd  \n",
       "\n",
       "[5 rows x 41 columns]"
      ]
     },
     "execution_count": 181,
     "metadata": {},
     "output_type": "execute_result"
    }
   ],
   "source": [
    "claim_pth = r\"/Users/yuhan/Desktop/Gradient_Boost_code/data/FEMANfipClaims_TX.csv\"\n",
    "FimaNfipClaims2 = pd.read_csv( claim_pth )\n",
    "FimaNfipClaims2.head()"
   ]
  },
  {
   "cell_type": "code",
   "execution_count": 182,
   "metadata": {},
   "outputs": [
    {
     "name": "stdout",
     "output_type": "stream",
     "text": [
      "(267162, 42)\n"
     ]
    }
   ],
   "source": [
    "FimaNfipClaims2['month'] = pd.DatetimeIndex(FimaNfipClaims2['dateOfLoss']).month\n",
    "# claimData = claimData0.loc[ claimData0[\"state\"] == \"FL\"]\n",
    "claimData = FimaNfipClaims2.loc[(FimaNfipClaims2['yearOfLoss'] > 2000) &\n",
    "                          (FimaNfipClaims2['yearOfLoss'] <= 2020),]\n",
    "print(claimData.shape)\n",
    "claimData = claimData.dropna(subset=['countyCode'])\n",
    "\n",
    "claimData['floodZone'] = claimData['floodZone'].astype( str )\n",
    "claimData['countyCode'] = claimData['countyCode'].astype( \"int64\" )\n"
   ]
  },
  {
   "cell_type": "code",
   "execution_count": 183,
   "metadata": {},
   "outputs": [
    {
     "name": "stdout",
     "output_type": "stream",
     "text": [
      "(266795, 42)\n",
      "(36861, 42)\n"
     ]
    }
   ],
   "source": [
    "print(claimData.shape) \n",
    "claimData = claimData.loc[ (claimData['agricultureStructureIndicator'] != 1) &\n",
    "                           (claimData['countyCode'] == 48167),]\n",
    "print(claimData.shape)"
   ]
  },
  {
   "cell_type": "code",
   "execution_count": 184,
   "metadata": {},
   "outputs": [
    {
     "data": {
      "image/png": "[encoded data removed]",
      "text/plain": [
       "<Figure size 640x480 with 1 Axes>"
      ]
     },
     "metadata": {},
     "output_type": "display_data"
    }
   ],
   "source": [
    "YearOfLoss = claimData.groupby(['yearOfLoss']).agg({'yearOfLoss': 'count'})\n",
    "plt.bar(YearOfLoss.index.tolist(), YearOfLoss.yearOfLoss.tolist())\n",
    "plt.show()\n"
   ]
  },
  {
   "cell_type": "code",
   "execution_count": 185,
   "metadata": {},
   "outputs": [
    {
     "name": "stdout",
     "output_type": "stream",
     "text": [
      "   Year  ClaimBuilPaid  Claimpolicycount  ContentPaid\n",
      "0  2001    29926649.63              1916  13872408.64\n",
      "1  2002     2325555.26               467    594542.99\n",
      "2  2003     3746305.23               715   1059149.54\n",
      "3  2004      192953.21                57     99729.31\n",
      "4  2005     1535252.84               376    386215.59\n"
     ]
    }
   ],
   "source": [
    "grouped_claim = claimData.groupby([ 'yearOfLoss' ]).agg({\n",
    "    'amountPaidOnBuildingClaim': ['sum'],\n",
    "    'policyCount': ['count'],\n",
    "    'amountPaidOnContentsClaim': ['sum']\n",
    "}).reset_index()\n",
    "\n",
    "#\n",
    "grouped_claim.columns = [ 'Year',\n",
    "                            'ClaimBuilPaid', 'Claimpolicycount',\n",
    "                            'ContentPaid']\n",
    "print( grouped_claim.head() )\n"
   ]
  },
  {
   "cell_type": "code",
   "execution_count": 186,
   "metadata": {},
   "outputs": [],
   "source": [
    "grouped_claim2 = grouped_claim.loc[grouped_claim['Year'] >= 2005]\n",
    "claim_galv_pth = r\"/Users/yuhan/Desktop/Gradient_Boost_code/data/Year_Claims_Galveston.csv\"\n",
    "grouped_claim2.to_csv( claim_galv_pth, index = False)"
   ]
  },
  {
   "cell_type": "code",
   "execution_count": 187,
   "metadata": {},
   "outputs": [
    {
     "name": "stdout",
     "output_type": "stream",
     "text": [
      "  projectIdentifier programArea  programFy  disasterNumber  \\\n",
      "0    DR-1791-0012-R        HMGP       2008            1791   \n",
      "1    DR-1379-0016-R        HMGP       2001            1379   \n",
      "2    DR-1439-0005-R        HMGP       2003            1439   \n",
      "3    DR-1379-0004-R        HMGP       2001            1379   \n",
      "4    DR-1439-0005-R        HMGP       2003            1439   \n",
      "\n",
      "           propertyAction  structureType  \\\n",
      "0  Acquisition/Demolition  Single Family   \n",
      "1  Acquisition/Demolition  Single Family   \n",
      "2  Acquisition/Demolition  Single Family   \n",
      "3                     NaN  Single Family   \n",
      "4  Acquisition/Demolition  Single Family   \n",
      "\n",
      "                        typeOfResidency foundationType     county       city  \\\n",
      "0  Owner Occupied - Principal Residence  Slab on Grade  Galveston  GALEVSTON   \n",
      "1  Owner Occupied - Principal Residence  Slab on Grade     Harris    HOUSTON   \n",
      "2  Owner Occupied - Principal Residence  Slab on Grade     Harris    HOUSTON   \n",
      "3                                   NaN  Slab on Grade   Brazoria   PEARLAND   \n",
      "4  Owner Occupied - Principal Residence  Slab on Grade     Harris    HOUSTON   \n",
      "\n",
      "   state  stateNumberCode  region    zip damageCategory  actualAmountPaid  \\\n",
      "0  Texas               48       6  77554       50 - 99%            282900   \n",
      "1  Texas               48       6  77040       50 - 99%            111000   \n",
      "2  Texas               48       6  77040       50 - 99%             83844   \n",
      "3  Texas               48       6  77581       50 - 99%            161070   \n",
      "4  Texas               48       6  77040       50 - 99%             87686   \n",
      "\n",
      "   numberOfProperties                                    id  \n",
      "0                   1  de62d742-51d6-4223-a859-23d34ec66d43  \n",
      "1                   1  942bda1b-c818-421a-8f41-42a19a31238b  \n",
      "2                   1  690dccd8-ed1b-436a-b93d-625d10769233  \n",
      "3                   1  75af30e1-c097-4388-8bef-d0b051501053  \n",
      "4                   1  add25068-c673-4576-ba93-83e615396e48  \n",
      "['Acquisition/Demolition' nan 'Other (Specify in Comments)'\n",
      " 'Safe Room/Wind Shelter' 'Acquisition of Vacant Land' 'Elevation'\n",
      " 'Acquisition/Relocation' 'Wildfire Retrofit'\n",
      " 'Wind Retrofit Advanced(A-P804)' 'Wind Retrofit' 'Floodproofed']\n",
      "(6617, 18)\n",
      "[2008 2001 2003 1998 2005 2011 2002 2007 2014 2016 1999 2006 2017 2015\n",
      " 2000 2013]\n"
     ]
    }
   ],
   "source": [
    "HMA_pthi3 = r\"/Users/yuhan/Desktop/Gradient_Boost_code/data/Mitigated_properties_Galveston.csv\"\n",
    "HMA_toal = pd.read_csv( HMA_pthi3 )\n",
    "\n",
    "print( HMA_toal.head() )\n",
    "print( HMA_toal.propertyAction.unique())\n",
    "print( HMA_toal.shape )\n",
    "HMA_toal2 = HMA_toal.loc[ HMA_toal['propertyAction'] .isin([\"Acquisition/Demolition\", \n",
    "                                           \"Acquisition of Vacant Land\", \"Acquisition/Relocation\"]) ]\n",
    "print( HMA_toal2.programFy.unique() )"
   ]
  },
  {
   "cell_type": "code",
   "execution_count": 192,
   "metadata": {},
   "outputs": [
    {
     "name": "stdout",
     "output_type": "stream",
     "text": [
      "   Year  AmountPaid  NumberProperty\n",
      "0  1998     4813833             152\n",
      "1  1999     8899680             145\n",
      "2  2000      492945               7\n",
      "3  2001    83925020            1064\n",
      "4  2002    10285217             162\n"
     ]
    },
    {
     "data": {
      "image/png": "[encoded data removed]",
      "text/plain": [
       "<Figure size 640x480 with 1 Axes>"
      ]
     },
     "metadata": {},
     "output_type": "display_data"
    }
   ],
   "source": [
    "grouped_HMA_toal = HMA_toal2.groupby([ 'programFy' ]).agg({\n",
    "    'actualAmountPaid': ['sum'],\n",
    "    'numberOfProperties': ['count']\n",
    "}).reset_index()\n",
    "\n",
    "#\n",
    "grouped_HMA_toal.columns = [ 'Year',\n",
    "                            'AmountPaid', 'NumberProperty']\n",
    "print( grouped_HMA_toal.head() )\n",
    "grouped_HMA_toal = grouped_HMA_toal.loc[grouped_HMA_toal['Year'] >= 2005]\n",
    "\n",
    "\n",
    "plt.bar(grouped_HMA_toal.Year.tolist(), grouped_HMA_toal.NumberProperty.tolist())\n",
    "plt.show()"
   ]
  },
  {
   "cell_type": "code",
   "execution_count": 193,
   "metadata": {},
   "outputs": [
    {
     "name": "stdout",
     "output_type": "stream",
     "text": [
      "Index(['Year', 'ClaimBuilPaid', 'CountN', 'ContentPaid'], dtype='object')\n",
      "Index(['Year', 'AmountPaid', 'NumberProperty'], dtype='object')\n"
     ]
    }
   ],
   "source": [
    "print( grouped_claim2.columns )\n",
    "print( grouped_HMA_toal.columns)\n",
    "\n",
    "grouped_claim2.columns = ['Year', 'ClaimBuilPaid', 'CountN', 'ContentPaid']\n",
    "grouped_HMA_toal.columns = ['Year', 'AmountPaid', 'CountN']"
   ]
  },
  {
   "cell_type": "code",
   "execution_count": 194,
   "metadata": {},
   "outputs": [
    {
     "data": {
      "text/plain": [
       "(10, 7)"
      ]
     },
     "execution_count": 194,
     "metadata": {},
     "output_type": "execute_result"
    }
   ],
   "source": [
    "\n",
    "result_cliam_HMA = pd.merge( grouped_claim2, \n",
    "                             grouped_HMA_toal, \n",
    "                  how=\"inner\", on= \"Year\" ).reset_index()\n",
    "\n",
    "result_cliam_HMA = result_cliam_HMA.fillna(0)\n",
    "result_cliam_HMA.shape\n"
   ]
  },
  {
   "cell_type": "code",
   "execution_count": 191,
   "metadata": {},
   "outputs": [],
   "source": [
    "out_pthix = r\"/Users/yuhan/Desktop/Gradient_Boost_code/data/migration_data/Galveston_US_flows/year_total_flows.csv\"\n",
    "result_total = pd.read_csv( out_pthix )\n",
    "result_total.head()\n",
    "\n",
    "result_cliam_HMA_total = pd.merge( result_cliam_HMA, \n",
    "                             result_total, \n",
    "                  how=\"left\", on= \"Year\" ).reset_index()\n",
    "\n",
    "result_cliam_HMA_total = result_cliam_HMA_total.fillna(0)\n",
    "\n",
    "\n",
    "x_pth = r\"/Users/yuhan/Desktop/Gradient_Boost_code/data/Year_Claims_HMA_inflow_Galv.csv\"\n",
    "result_cliam_HMA_total.to_csv( x_pth, index = False)\n"
   ]
  },
  {
   "cell_type": "code",
   "execution_count": 175,
   "metadata": {},
   "outputs": [
    {
     "name": "stderr",
     "output_type": "stream",
     "text": [
      "/var/folders/t6/8gnslc_j433220_1kgd9hv_c0000gn/T/ipykernel_18390/3722613870.py:1: SettingWithCopyWarning: \n",
      "A value is trying to be set on a copy of a slice from a DataFrame.\n",
      "Try using .loc[row_indexer,col_indexer] = value instead\n",
      "\n",
      "See the caveats in the documentation: https://pandas.pydata.org/pandas-docs/stable/user_guide/indexing.html#returning-a-view-versus-a-copy\n",
      "  grouped_claim2['Category']    = \"Claim\"\n"
     ]
    }
   ],
   "source": [
    "grouped_claim2['Category']    = \"Claim\"\n",
    "grouped_HMA_toal['Category'] = \"HMA\"\n",
    "claim_HMA_toal = pd.concat( [grouped_claim2[ [\"Year\", \"CountN\" , \"Category\"] ], \n",
    "                           grouped_HMA_toal[ [\"Year\", \"CountN\" , \"Category\"] ]] )"
   ]
  },
  {
   "cell_type": "code",
   "execution_count": 133,
   "metadata": {},
   "outputs": [
    {
     "data": {
      "text/html": [
       "<div>\n",
       "<style scoped>\n",
       "    .dataframe tbody tr th:only-of-type {\n",
       "        vertical-align: middle;\n",
       "    }\n",
       "\n",
       "    .dataframe tbody tr th {\n",
       "        vertical-align: top;\n",
       "    }\n",
       "\n",
       "    .dataframe thead th {\n",
       "        text-align: right;\n",
       "    }\n",
       "</style>\n",
       "<table border=\"1\" class=\"dataframe\">\n",
       "  <thead>\n",
       "    <tr style=\"text-align: right;\">\n",
       "      <th></th>\n",
       "      <th>Year</th>\n",
       "      <th>CountN</th>\n",
       "      <th>Category</th>\n",
       "    </tr>\n",
       "  </thead>\n",
       "  <tbody>\n",
       "    <tr>\n",
       "      <th>0</th>\n",
       "      <td>2001</td>\n",
       "      <td>1916</td>\n",
       "      <td>Claim</td>\n",
       "    </tr>\n",
       "    <tr>\n",
       "      <th>1</th>\n",
       "      <td>2002</td>\n",
       "      <td>467</td>\n",
       "      <td>Claim</td>\n",
       "    </tr>\n",
       "    <tr>\n",
       "      <th>2</th>\n",
       "      <td>2003</td>\n",
       "      <td>715</td>\n",
       "      <td>Claim</td>\n",
       "    </tr>\n",
       "    <tr>\n",
       "      <th>3</th>\n",
       "      <td>2004</td>\n",
       "      <td>57</td>\n",
       "      <td>Claim</td>\n",
       "    </tr>\n",
       "    <tr>\n",
       "      <th>4</th>\n",
       "      <td>2005</td>\n",
       "      <td>376</td>\n",
       "      <td>Claim</td>\n",
       "    </tr>\n",
       "  </tbody>\n",
       "</table>\n",
       "</div>"
      ],
      "text/plain": [
       "   Year  CountN Category\n",
       "0  2001    1916    Claim\n",
       "1  2002     467    Claim\n",
       "2  2003     715    Claim\n",
       "3  2004      57    Claim\n",
       "4  2005     376    Claim"
      ]
     },
     "execution_count": 133,
     "metadata": {},
     "output_type": "execute_result"
    }
   ],
   "source": [
    "#claim_HMA_toal.head()"
   ]
  },
  {
   "cell_type": "code",
   "execution_count": 176,
   "metadata": {},
   "outputs": [],
   "source": [
    "#result_popflow_cliam.head()\n",
    "cliam_HMA_pth = r\"/Users/yuhan/Desktop/Gradient_Boost_code/data/Year_Claims_HMA_Galv.csv\"\n",
    "claim_HMA_toal.to_csv( cliam_HMA_pth, index = False)\n"
   ]
  },
  {
   "cell_type": "code",
   "execution_count": 1,
   "metadata": {},
   "outputs": [
    {
     "name": "stdout",
     "output_type": "stream",
     "text": [
      "2020-04-01 xx April 2020\n",
      "2021-04-01 xx April 2021\n",
      "2021-10-01 xx October 2021\n"
     ]
    }
   ],
   "source": [
    "for i,(thisdate,title) in enumerate(zip([\"2020-04-01\",\"2021-04-01\",\"2021-10-01\"], \n",
    "                                        [\"April 2020\",\"April 2021\",\"October 2021\"])):\n",
    "    print(thisdate, \"xx\", title)"
   ]
  }
 ],
 "metadata": {
  "kernelspec": {
   "display_name": "hazard_env",
   "language": "python",
   "name": "python3"
  },
  "language_info": {
   "codemirror_mode": {
    "name": "ipython",
    "version": 3
   },
   "file_extension": ".py",
   "mimetype": "text/x-python",
   "name": "python",
   "nbconvert_exporter": "python",
   "pygments_lexer": "ipython3",
   "version": "3.11.4"
  }
 },
 "nbformat": 4,
 "nbformat_minor": 2
}
